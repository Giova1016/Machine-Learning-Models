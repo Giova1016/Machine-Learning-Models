{
  "cells": [
    {
      "cell_type": "markdown",
      "metadata": {
        "id": "tKb81MjngarE"
      },
      "source": [
        "# **Importing the necessary libraries for this notebook**"
      ]
    },
    {
      "cell_type": "code",
      "execution_count": null,
      "metadata": {},
      "outputs": [],
      "source": [
        "# Remove the comment from the line below and run it to install the require packages if your Jupyter kernel does not have these packages installed\n",
        "# %pip install numpy pandas matplotlib nltk scikit-learn"
      ]
    },
    {
      "cell_type": "code",
      "execution_count": null,
      "metadata": {
        "execution": {
          "iopub.execute_input": "2025-02-19T18:33:51.03622Z",
          "iopub.status.busy": "2025-02-19T18:33:51.035746Z",
          "iopub.status.idle": "2025-02-19T18:33:51.042579Z",
          "shell.execute_reply": "2025-02-19T18:33:51.04123Z",
          "shell.execute_reply.started": "2025-02-19T18:33:51.036182Z"
        },
        "id": "7SRbBSvugarG",
        "trusted": true
      },
      "outputs": [],
      "source": [
        "import numpy as np\n",
        "import pandas as pd\n",
        "import matplotlib.pyplot as plt\n",
        "import nltk\n",
        "from nltk.stem import WordNetLemmatizer\n",
        "from nltk.corpus import stopwords\n",
        "import re\n",
        "from sklearn.feature_extraction.text import CountVectorizer\n",
        "from sklearn.linear_model import LogisticRegression"
      ]
    },
    {
      "cell_type": "code",
      "execution_count": null,
      "metadata": {
        "colab": {
          "base_uri": "https://localhost:8080/"
        },
        "id": "LgEPMF47NfZ0",
        "outputId": "8cef4a9b-70df-4d99-8119-00ee54e8780e"
      },
      "outputs": [
        {
          "name": "stderr",
          "output_type": "stream",
          "text": [
            "[nltk_data] Downloading package wordnet to /root/nltk_data...\n",
            "[nltk_data]   Package wordnet is already up-to-date!\n",
            "[nltk_data] Downloading package stopwords to /root/nltk_data...\n",
            "[nltk_data]   Package stopwords is already up-to-date!\n"
          ]
        },
        {
          "data": {
            "text/plain": [
              "True"
            ]
          },
          "execution_count": 405,
          "metadata": {},
          "output_type": "execute_result"
        }
      ],
      "source": [
        "# Downloading required NLTK data files\n",
        "nltk.download('wordnet')\n",
        "nltk.download('stopwords')"
      ]
    },
    {
      "cell_type": "markdown",
      "metadata": {
        "id": "aGi0RuTCgarG"
      },
      "source": [
        "# **Loading and Exploring the datasets**"
      ]
    },
    {
      "cell_type": "code",
      "execution_count": null,
      "metadata": {
        "execution": {
          "iopub.execute_input": "2025-02-19T17:08:17.738329Z",
          "iopub.status.busy": "2025-02-19T17:08:17.737994Z",
          "iopub.status.idle": "2025-02-19T17:08:17.778294Z",
          "shell.execute_reply": "2025-02-19T17:08:17.777234Z",
          "shell.execute_reply.started": "2025-02-19T17:08:17.738305Z"
        },
        "id": "NYT-pmFEgarG",
        "trusted": true
      },
      "outputs": [],
      "source": [
        "train_df = pd.read_csv(\"/nlp-getting-started/train.csv\")\n",
        "test_df = pd.read_csv(\"/nlp-getting-started/test.csv\")"
      ]
    },
    {
      "cell_type": "code",
      "execution_count": null,
      "metadata": {
        "colab": {
          "base_uri": "https://localhost:8080/"
        },
        "execution": {
          "iopub.execute_input": "2025-02-19T17:08:17.779965Z",
          "iopub.status.busy": "2025-02-19T17:08:17.779694Z",
          "iopub.status.idle": "2025-02-19T17:08:17.786633Z",
          "shell.execute_reply": "2025-02-19T17:08:17.785429Z",
          "shell.execute_reply.started": "2025-02-19T17:08:17.779943Z"
        },
        "id": "n8ufbohggarH",
        "outputId": "2efdeddb-8fc8-4502-edc2-ae89f91eac16",
        "trusted": true
      },
      "outputs": [
        {
          "data": {
            "text/plain": [
              "(7613, 5)"
            ]
          },
          "execution_count": 407,
          "metadata": {},
          "output_type": "execute_result"
        }
      ],
      "source": [
        "train_df.shape"
      ]
    },
    {
      "cell_type": "code",
      "execution_count": null,
      "metadata": {
        "colab": {
          "base_uri": "https://localhost:8080/"
        },
        "execution": {
          "iopub.execute_input": "2025-02-19T17:08:17.788694Z",
          "iopub.status.busy": "2025-02-19T17:08:17.788346Z",
          "iopub.status.idle": "2025-02-19T17:08:17.809734Z",
          "shell.execute_reply": "2025-02-19T17:08:17.808539Z",
          "shell.execute_reply.started": "2025-02-19T17:08:17.788668Z"
        },
        "id": "66QhUiJJgarH",
        "outputId": "0e2b3403-14cb-44e1-b2e0-c39cf264fa9d",
        "trusted": true
      },
      "outputs": [
        {
          "data": {
            "text/plain": [
              "(3263, 4)"
            ]
          },
          "execution_count": 408,
          "metadata": {},
          "output_type": "execute_result"
        }
      ],
      "source": [
        "test_df.shape"
      ]
    },
    {
      "cell_type": "code",
      "execution_count": null,
      "metadata": {
        "colab": {
          "base_uri": "https://localhost:8080/",
          "height": 676
        },
        "execution": {
          "iopub.execute_input": "2025-02-19T17:08:17.811958Z",
          "iopub.status.busy": "2025-02-19T17:08:17.811605Z",
          "iopub.status.idle": "2025-02-19T17:08:17.841016Z",
          "shell.execute_reply": "2025-02-19T17:08:17.839819Z",
          "shell.execute_reply.started": "2025-02-19T17:08:17.81193Z"
        },
        "id": "fx-ZfJIAgarI",
        "outputId": "92481ea6-56c0-40f8-a1f0-7b0694d0afae",
        "trusted": true
      },
      "outputs": [
        {
          "data": {
            "application/vnd.google.colaboratory.intrinsic+json": {
              "summary": "{\n  \"name\": \"train_df\",\n  \"rows\": 7613,\n  \"fields\": [\n    {\n      \"column\": \"id\",\n      \"properties\": {\n        \"dtype\": \"number\",\n        \"std\": 3137,\n        \"min\": 1,\n        \"max\": 10873,\n        \"num_unique_values\": 7613,\n        \"samples\": [\n          3796,\n          3185,\n          7769\n        ],\n        \"semantic_type\": \"\",\n        \"description\": \"\"\n      }\n    },\n    {\n      \"column\": \"keyword\",\n      \"properties\": {\n        \"dtype\": \"category\",\n        \"num_unique_values\": 221,\n        \"samples\": [\n          \"injury\",\n          \"nuclear%20reactor\",\n          \"engulfed\"\n        ],\n        \"semantic_type\": \"\",\n        \"description\": \"\"\n      }\n    },\n    {\n      \"column\": \"location\",\n      \"properties\": {\n        \"dtype\": \"category\",\n        \"num_unique_values\": 3341,\n        \"samples\": [\n          \"Oklahoma\",\n          \"Starling City\",\n          \"Trinidad and Tobago\"\n        ],\n        \"semantic_type\": \"\",\n        \"description\": \"\"\n      }\n    },\n    {\n      \"column\": \"text\",\n      \"properties\": {\n        \"dtype\": \"string\",\n        \"num_unique_values\": 7503,\n        \"samples\": [\n          \"Three Homes Demolished in Unrecognized Arab Village - International Middle East Media Center http://t.co/ik8m4Yi9T4\",\n          \"Reid Lake fire prompts campground evacuation order http://t.co/jBODKM6rBU\",\n          \"FAAN orders evacuation of abandoned aircraft at MMA http://t.co/dEvYbnVXGQ via @todayng\"\n        ],\n        \"semantic_type\": \"\",\n        \"description\": \"\"\n      }\n    },\n    {\n      \"column\": \"target\",\n      \"properties\": {\n        \"dtype\": \"number\",\n        \"std\": 0,\n        \"min\": 0,\n        \"max\": 1,\n        \"num_unique_values\": 2,\n        \"samples\": [\n          0,\n          1\n        ],\n        \"semantic_type\": \"\",\n        \"description\": \"\"\n      }\n    }\n  ]\n}",
              "type": "dataframe",
              "variable_name": "train_df"
            },
            "text/html": [
              "\n",
              "  <div id=\"df-a76fa40b-c69c-406d-906d-3b3df060df53\" class=\"colab-df-container\">\n",
              "    <div>\n",
              "<style scoped>\n",
              "    .dataframe tbody tr th:only-of-type {\n",
              "        vertical-align: middle;\n",
              "    }\n",
              "\n",
              "    .dataframe tbody tr th {\n",
              "        vertical-align: top;\n",
              "    }\n",
              "\n",
              "    .dataframe thead th {\n",
              "        text-align: right;\n",
              "    }\n",
              "</style>\n",
              "<table border=\"1\" class=\"dataframe\">\n",
              "  <thead>\n",
              "    <tr style=\"text-align: right;\">\n",
              "      <th></th>\n",
              "      <th>id</th>\n",
              "      <th>keyword</th>\n",
              "      <th>location</th>\n",
              "      <th>text</th>\n",
              "      <th>target</th>\n",
              "    </tr>\n",
              "  </thead>\n",
              "  <tbody>\n",
              "    <tr>\n",
              "      <th>0</th>\n",
              "      <td>1</td>\n",
              "      <td>NaN</td>\n",
              "      <td>NaN</td>\n",
              "      <td>Our Deeds are the Reason of this #earthquake M...</td>\n",
              "      <td>1</td>\n",
              "    </tr>\n",
              "    <tr>\n",
              "      <th>1</th>\n",
              "      <td>4</td>\n",
              "      <td>NaN</td>\n",
              "      <td>NaN</td>\n",
              "      <td>Forest fire near La Ronge Sask. Canada</td>\n",
              "      <td>1</td>\n",
              "    </tr>\n",
              "    <tr>\n",
              "      <th>2</th>\n",
              "      <td>5</td>\n",
              "      <td>NaN</td>\n",
              "      <td>NaN</td>\n",
              "      <td>All residents asked to 'shelter in place' are ...</td>\n",
              "      <td>1</td>\n",
              "    </tr>\n",
              "    <tr>\n",
              "      <th>3</th>\n",
              "      <td>6</td>\n",
              "      <td>NaN</td>\n",
              "      <td>NaN</td>\n",
              "      <td>13,000 people receive #wildfires evacuation or...</td>\n",
              "      <td>1</td>\n",
              "    </tr>\n",
              "    <tr>\n",
              "      <th>4</th>\n",
              "      <td>7</td>\n",
              "      <td>NaN</td>\n",
              "      <td>NaN</td>\n",
              "      <td>Just got sent this photo from Ruby #Alaska as ...</td>\n",
              "      <td>1</td>\n",
              "    </tr>\n",
              "    <tr>\n",
              "      <th>5</th>\n",
              "      <td>8</td>\n",
              "      <td>NaN</td>\n",
              "      <td>NaN</td>\n",
              "      <td>#RockyFire Update =&gt; California Hwy. 20 closed...</td>\n",
              "      <td>1</td>\n",
              "    </tr>\n",
              "    <tr>\n",
              "      <th>6</th>\n",
              "      <td>10</td>\n",
              "      <td>NaN</td>\n",
              "      <td>NaN</td>\n",
              "      <td>#flood #disaster Heavy rain causes flash flood...</td>\n",
              "      <td>1</td>\n",
              "    </tr>\n",
              "    <tr>\n",
              "      <th>7</th>\n",
              "      <td>13</td>\n",
              "      <td>NaN</td>\n",
              "      <td>NaN</td>\n",
              "      <td>I'm on top of the hill and I can see a fire in...</td>\n",
              "      <td>1</td>\n",
              "    </tr>\n",
              "    <tr>\n",
              "      <th>8</th>\n",
              "      <td>14</td>\n",
              "      <td>NaN</td>\n",
              "      <td>NaN</td>\n",
              "      <td>There's an emergency evacuation happening now ...</td>\n",
              "      <td>1</td>\n",
              "    </tr>\n",
              "    <tr>\n",
              "      <th>9</th>\n",
              "      <td>15</td>\n",
              "      <td>NaN</td>\n",
              "      <td>NaN</td>\n",
              "      <td>I'm afraid that the tornado is coming to our a...</td>\n",
              "      <td>1</td>\n",
              "    </tr>\n",
              "    <tr>\n",
              "      <th>10</th>\n",
              "      <td>16</td>\n",
              "      <td>NaN</td>\n",
              "      <td>NaN</td>\n",
              "      <td>Three people died from the heat wave so far</td>\n",
              "      <td>1</td>\n",
              "    </tr>\n",
              "    <tr>\n",
              "      <th>11</th>\n",
              "      <td>17</td>\n",
              "      <td>NaN</td>\n",
              "      <td>NaN</td>\n",
              "      <td>Haha South Tampa is getting flooded hah- WAIT ...</td>\n",
              "      <td>1</td>\n",
              "    </tr>\n",
              "    <tr>\n",
              "      <th>12</th>\n",
              "      <td>18</td>\n",
              "      <td>NaN</td>\n",
              "      <td>NaN</td>\n",
              "      <td>#raining #flooding #Florida #TampaBay #Tampa 1...</td>\n",
              "      <td>1</td>\n",
              "    </tr>\n",
              "    <tr>\n",
              "      <th>13</th>\n",
              "      <td>19</td>\n",
              "      <td>NaN</td>\n",
              "      <td>NaN</td>\n",
              "      <td>#Flood in Bago Myanmar #We arrived Bago</td>\n",
              "      <td>1</td>\n",
              "    </tr>\n",
              "    <tr>\n",
              "      <th>14</th>\n",
              "      <td>20</td>\n",
              "      <td>NaN</td>\n",
              "      <td>NaN</td>\n",
              "      <td>Damage to school bus on 80 in multi car crash ...</td>\n",
              "      <td>1</td>\n",
              "    </tr>\n",
              "    <tr>\n",
              "      <th>15</th>\n",
              "      <td>23</td>\n",
              "      <td>NaN</td>\n",
              "      <td>NaN</td>\n",
              "      <td>What's up man?</td>\n",
              "      <td>0</td>\n",
              "    </tr>\n",
              "    <tr>\n",
              "      <th>16</th>\n",
              "      <td>24</td>\n",
              "      <td>NaN</td>\n",
              "      <td>NaN</td>\n",
              "      <td>I love fruits</td>\n",
              "      <td>0</td>\n",
              "    </tr>\n",
              "    <tr>\n",
              "      <th>17</th>\n",
              "      <td>25</td>\n",
              "      <td>NaN</td>\n",
              "      <td>NaN</td>\n",
              "      <td>Summer is lovely</td>\n",
              "      <td>0</td>\n",
              "    </tr>\n",
              "    <tr>\n",
              "      <th>18</th>\n",
              "      <td>26</td>\n",
              "      <td>NaN</td>\n",
              "      <td>NaN</td>\n",
              "      <td>My car is so fast</td>\n",
              "      <td>0</td>\n",
              "    </tr>\n",
              "    <tr>\n",
              "      <th>19</th>\n",
              "      <td>28</td>\n",
              "      <td>NaN</td>\n",
              "      <td>NaN</td>\n",
              "      <td>What a goooooooaaaaaal!!!!!!</td>\n",
              "      <td>0</td>\n",
              "    </tr>\n",
              "  </tbody>\n",
              "</table>\n",
              "</div>\n",
              "    <div class=\"colab-df-buttons\">\n",
              "\n",
              "  <div class=\"colab-df-container\">\n",
              "    <button class=\"colab-df-convert\" onclick=\"convertToInteractive('df-a76fa40b-c69c-406d-906d-3b3df060df53')\"\n",
              "            title=\"Convert this dataframe to an interactive table.\"\n",
              "            style=\"display:none;\">\n",
              "\n",
              "  <svg xmlns=\"http://www.w3.org/2000/svg\" height=\"24px\" viewBox=\"0 -960 960 960\">\n",
              "    <path d=\"M120-120v-720h720v720H120Zm60-500h600v-160H180v160Zm220 220h160v-160H400v160Zm0 220h160v-160H400v160ZM180-400h160v-160H180v160Zm440 0h160v-160H620v160ZM180-180h160v-160H180v160Zm440 0h160v-160H620v160Z\"/>\n",
              "  </svg>\n",
              "    </button>\n",
              "\n",
              "  <style>\n",
              "    .colab-df-container {\n",
              "      display:flex;\n",
              "      gap: 12px;\n",
              "    }\n",
              "\n",
              "    .colab-df-convert {\n",
              "      background-color: #E8F0FE;\n",
              "      border: none;\n",
              "      border-radius: 50%;\n",
              "      cursor: pointer;\n",
              "      display: none;\n",
              "      fill: #1967D2;\n",
              "      height: 32px;\n",
              "      padding: 0 0 0 0;\n",
              "      width: 32px;\n",
              "    }\n",
              "\n",
              "    .colab-df-convert:hover {\n",
              "      background-color: #E2EBFA;\n",
              "      box-shadow: 0px 1px 2px rgba(60, 64, 67, 0.3), 0px 1px 3px 1px rgba(60, 64, 67, 0.15);\n",
              "      fill: #174EA6;\n",
              "    }\n",
              "\n",
              "    .colab-df-buttons div {\n",
              "      margin-bottom: 4px;\n",
              "    }\n",
              "\n",
              "    [theme=dark] .colab-df-convert {\n",
              "      background-color: #3B4455;\n",
              "      fill: #D2E3FC;\n",
              "    }\n",
              "\n",
              "    [theme=dark] .colab-df-convert:hover {\n",
              "      background-color: #434B5C;\n",
              "      box-shadow: 0px 1px 3px 1px rgba(0, 0, 0, 0.15);\n",
              "      filter: drop-shadow(0px 1px 2px rgba(0, 0, 0, 0.3));\n",
              "      fill: #FFFFFF;\n",
              "    }\n",
              "  </style>\n",
              "\n",
              "    <script>\n",
              "      const buttonEl =\n",
              "        document.querySelector('#df-a76fa40b-c69c-406d-906d-3b3df060df53 button.colab-df-convert');\n",
              "      buttonEl.style.display =\n",
              "        google.colab.kernel.accessAllowed ? 'block' : 'none';\n",
              "\n",
              "      async function convertToInteractive(key) {\n",
              "        const element = document.querySelector('#df-a76fa40b-c69c-406d-906d-3b3df060df53');\n",
              "        const dataTable =\n",
              "          await google.colab.kernel.invokeFunction('convertToInteractive',\n",
              "                                                    [key], {});\n",
              "        if (!dataTable) return;\n",
              "\n",
              "        const docLinkHtml = 'Like what you see? Visit the ' +\n",
              "          '<a target=\"_blank\" href=https://colab.research.google.com/notebooks/data_table.ipynb>data table notebook</a>'\n",
              "          + ' to learn more about interactive tables.';\n",
              "        element.innerHTML = '';\n",
              "        dataTable['output_type'] = 'display_data';\n",
              "        await google.colab.output.renderOutput(dataTable, element);\n",
              "        const docLink = document.createElement('div');\n",
              "        docLink.innerHTML = docLinkHtml;\n",
              "        element.appendChild(docLink);\n",
              "      }\n",
              "    </script>\n",
              "  </div>\n",
              "\n",
              "\n",
              "<div id=\"df-812c496a-7488-490b-bba7-a6fb109c7429\">\n",
              "  <button class=\"colab-df-quickchart\" onclick=\"quickchart('df-812c496a-7488-490b-bba7-a6fb109c7429')\"\n",
              "            title=\"Suggest charts\"\n",
              "            style=\"display:none;\">\n",
              "\n",
              "<svg xmlns=\"http://www.w3.org/2000/svg\" height=\"24px\"viewBox=\"0 0 24 24\"\n",
              "     width=\"24px\">\n",
              "    <g>\n",
              "        <path d=\"M19 3H5c-1.1 0-2 .9-2 2v14c0 1.1.9 2 2 2h14c1.1 0 2-.9 2-2V5c0-1.1-.9-2-2-2zM9 17H7v-7h2v7zm4 0h-2V7h2v10zm4 0h-2v-4h2v4z\"/>\n",
              "    </g>\n",
              "</svg>\n",
              "  </button>\n",
              "\n",
              "<style>\n",
              "  .colab-df-quickchart {\n",
              "      --bg-color: #E8F0FE;\n",
              "      --fill-color: #1967D2;\n",
              "      --hover-bg-color: #E2EBFA;\n",
              "      --hover-fill-color: #174EA6;\n",
              "      --disabled-fill-color: #AAA;\n",
              "      --disabled-bg-color: #DDD;\n",
              "  }\n",
              "\n",
              "  [theme=dark] .colab-df-quickchart {\n",
              "      --bg-color: #3B4455;\n",
              "      --fill-color: #D2E3FC;\n",
              "      --hover-bg-color: #434B5C;\n",
              "      --hover-fill-color: #FFFFFF;\n",
              "      --disabled-bg-color: #3B4455;\n",
              "      --disabled-fill-color: #666;\n",
              "  }\n",
              "\n",
              "  .colab-df-quickchart {\n",
              "    background-color: var(--bg-color);\n",
              "    border: none;\n",
              "    border-radius: 50%;\n",
              "    cursor: pointer;\n",
              "    display: none;\n",
              "    fill: var(--fill-color);\n",
              "    height: 32px;\n",
              "    padding: 0;\n",
              "    width: 32px;\n",
              "  }\n",
              "\n",
              "  .colab-df-quickchart:hover {\n",
              "    background-color: var(--hover-bg-color);\n",
              "    box-shadow: 0 1px 2px rgba(60, 64, 67, 0.3), 0 1px 3px 1px rgba(60, 64, 67, 0.15);\n",
              "    fill: var(--button-hover-fill-color);\n",
              "  }\n",
              "\n",
              "  .colab-df-quickchart-complete:disabled,\n",
              "  .colab-df-quickchart-complete:disabled:hover {\n",
              "    background-color: var(--disabled-bg-color);\n",
              "    fill: var(--disabled-fill-color);\n",
              "    box-shadow: none;\n",
              "  }\n",
              "\n",
              "  .colab-df-spinner {\n",
              "    border: 2px solid var(--fill-color);\n",
              "    border-color: transparent;\n",
              "    border-bottom-color: var(--fill-color);\n",
              "    animation:\n",
              "      spin 1s steps(1) infinite;\n",
              "  }\n",
              "\n",
              "  @keyframes spin {\n",
              "    0% {\n",
              "      border-color: transparent;\n",
              "      border-bottom-color: var(--fill-color);\n",
              "      border-left-color: var(--fill-color);\n",
              "    }\n",
              "    20% {\n",
              "      border-color: transparent;\n",
              "      border-left-color: var(--fill-color);\n",
              "      border-top-color: var(--fill-color);\n",
              "    }\n",
              "    30% {\n",
              "      border-color: transparent;\n",
              "      border-left-color: var(--fill-color);\n",
              "      border-top-color: var(--fill-color);\n",
              "      border-right-color: var(--fill-color);\n",
              "    }\n",
              "    40% {\n",
              "      border-color: transparent;\n",
              "      border-right-color: var(--fill-color);\n",
              "      border-top-color: var(--fill-color);\n",
              "    }\n",
              "    60% {\n",
              "      border-color: transparent;\n",
              "      border-right-color: var(--fill-color);\n",
              "    }\n",
              "    80% {\n",
              "      border-color: transparent;\n",
              "      border-right-color: var(--fill-color);\n",
              "      border-bottom-color: var(--fill-color);\n",
              "    }\n",
              "    90% {\n",
              "      border-color: transparent;\n",
              "      border-bottom-color: var(--fill-color);\n",
              "    }\n",
              "  }\n",
              "</style>\n",
              "\n",
              "  <script>\n",
              "    async function quickchart(key) {\n",
              "      const quickchartButtonEl =\n",
              "        document.querySelector('#' + key + ' button');\n",
              "      quickchartButtonEl.disabled = true;  // To prevent multiple clicks.\n",
              "      quickchartButtonEl.classList.add('colab-df-spinner');\n",
              "      try {\n",
              "        const charts = await google.colab.kernel.invokeFunction(\n",
              "            'suggestCharts', [key], {});\n",
              "      } catch (error) {\n",
              "        console.error('Error during call to suggestCharts:', error);\n",
              "      }\n",
              "      quickchartButtonEl.classList.remove('colab-df-spinner');\n",
              "      quickchartButtonEl.classList.add('colab-df-quickchart-complete');\n",
              "    }\n",
              "    (() => {\n",
              "      let quickchartButtonEl =\n",
              "        document.querySelector('#df-812c496a-7488-490b-bba7-a6fb109c7429 button');\n",
              "      quickchartButtonEl.style.display =\n",
              "        google.colab.kernel.accessAllowed ? 'block' : 'none';\n",
              "    })();\n",
              "  </script>\n",
              "</div>\n",
              "\n",
              "    </div>\n",
              "  </div>\n"
            ],
            "text/plain": [
              "    id keyword location                                               text  \\\n",
              "0    1     NaN      NaN  Our Deeds are the Reason of this #earthquake M...   \n",
              "1    4     NaN      NaN             Forest fire near La Ronge Sask. Canada   \n",
              "2    5     NaN      NaN  All residents asked to 'shelter in place' are ...   \n",
              "3    6     NaN      NaN  13,000 people receive #wildfires evacuation or...   \n",
              "4    7     NaN      NaN  Just got sent this photo from Ruby #Alaska as ...   \n",
              "5    8     NaN      NaN  #RockyFire Update => California Hwy. 20 closed...   \n",
              "6   10     NaN      NaN  #flood #disaster Heavy rain causes flash flood...   \n",
              "7   13     NaN      NaN  I'm on top of the hill and I can see a fire in...   \n",
              "8   14     NaN      NaN  There's an emergency evacuation happening now ...   \n",
              "9   15     NaN      NaN  I'm afraid that the tornado is coming to our a...   \n",
              "10  16     NaN      NaN        Three people died from the heat wave so far   \n",
              "11  17     NaN      NaN  Haha South Tampa is getting flooded hah- WAIT ...   \n",
              "12  18     NaN      NaN  #raining #flooding #Florida #TampaBay #Tampa 1...   \n",
              "13  19     NaN      NaN            #Flood in Bago Myanmar #We arrived Bago   \n",
              "14  20     NaN      NaN  Damage to school bus on 80 in multi car crash ...   \n",
              "15  23     NaN      NaN                                     What's up man?   \n",
              "16  24     NaN      NaN                                      I love fruits   \n",
              "17  25     NaN      NaN                                   Summer is lovely   \n",
              "18  26     NaN      NaN                                  My car is so fast   \n",
              "19  28     NaN      NaN                       What a goooooooaaaaaal!!!!!!   \n",
              "\n",
              "    target  \n",
              "0        1  \n",
              "1        1  \n",
              "2        1  \n",
              "3        1  \n",
              "4        1  \n",
              "5        1  \n",
              "6        1  \n",
              "7        1  \n",
              "8        1  \n",
              "9        1  \n",
              "10       1  \n",
              "11       1  \n",
              "12       1  \n",
              "13       1  \n",
              "14       1  \n",
              "15       0  \n",
              "16       0  \n",
              "17       0  \n",
              "18       0  \n",
              "19       0  "
            ]
          },
          "execution_count": 409,
          "metadata": {},
          "output_type": "execute_result"
        }
      ],
      "source": [
        "train_df.head(20)"
      ]
    },
    {
      "cell_type": "code",
      "execution_count": null,
      "metadata": {
        "colab": {
          "base_uri": "https://localhost:8080/"
        },
        "execution": {
          "iopub.execute_input": "2025-02-19T17:08:17.842591Z",
          "iopub.status.busy": "2025-02-19T17:08:17.842184Z",
          "iopub.status.idle": "2025-02-19T17:08:17.867399Z",
          "shell.execute_reply": "2025-02-19T17:08:17.866456Z",
          "shell.execute_reply.started": "2025-02-19T17:08:17.842555Z"
        },
        "id": "8CAq8BGDgarI",
        "outputId": "9a528a37-527b-4bd2-b997-8340787d3029",
        "trusted": true
      },
      "outputs": [
        {
          "name": "stdout",
          "output_type": "stream",
          "text": [
            "<class 'pandas.core.frame.DataFrame'>\n",
            "RangeIndex: 7613 entries, 0 to 7612\n",
            "Data columns (total 5 columns):\n",
            " #   Column    Non-Null Count  Dtype \n",
            "---  ------    --------------  ----- \n",
            " 0   id        7613 non-null   int64 \n",
            " 1   keyword   7552 non-null   object\n",
            " 2   location  5080 non-null   object\n",
            " 3   text      7613 non-null   object\n",
            " 4   target    7613 non-null   int64 \n",
            "dtypes: int64(2), object(3)\n",
            "memory usage: 297.5+ KB\n"
          ]
        }
      ],
      "source": [
        "train_df.info()"
      ]
    },
    {
      "cell_type": "code",
      "execution_count": null,
      "metadata": {
        "colab": {
          "base_uri": "https://localhost:8080/",
          "height": 300
        },
        "execution": {
          "iopub.execute_input": "2025-02-19T17:08:17.868709Z",
          "iopub.status.busy": "2025-02-19T17:08:17.868355Z",
          "iopub.status.idle": "2025-02-19T17:08:17.89534Z",
          "shell.execute_reply": "2025-02-19T17:08:17.894208Z",
          "shell.execute_reply.started": "2025-02-19T17:08:17.868676Z"
        },
        "id": "rZFmYn_ZgarI",
        "outputId": "4a043a53-db4e-4528-cc05-123addad73bb",
        "trusted": true
      },
      "outputs": [
        {
          "data": {
            "application/vnd.google.colaboratory.intrinsic+json": {
              "summary": "{\n  \"name\": \"train_df\",\n  \"rows\": 8,\n  \"fields\": [\n    {\n      \"column\": \"id\",\n      \"properties\": {\n        \"dtype\": \"number\",\n        \"std\": 3459.3118775230537,\n        \"min\": 1.0,\n        \"max\": 10873.0,\n        \"num_unique_values\": 8,\n        \"samples\": [\n          5441.934848285827,\n          5408.0,\n          7613.0\n        ],\n        \"semantic_type\": \"\",\n        \"description\": \"\"\n      }\n    },\n    {\n      \"column\": \"target\",\n      \"properties\": {\n        \"dtype\": \"number\",\n        \"std\": 2691.454273978321,\n        \"min\": 0.0,\n        \"max\": 7613.0,\n        \"num_unique_values\": 5,\n        \"samples\": [\n          0.4296597924602653,\n          1.0,\n          0.4950600449341643\n        ],\n        \"semantic_type\": \"\",\n        \"description\": \"\"\n      }\n    }\n  ]\n}",
              "type": "dataframe"
            },
            "text/html": [
              "\n",
              "  <div id=\"df-c406a42e-2081-42bb-a7ba-94e02d05a854\" class=\"colab-df-container\">\n",
              "    <div>\n",
              "<style scoped>\n",
              "    .dataframe tbody tr th:only-of-type {\n",
              "        vertical-align: middle;\n",
              "    }\n",
              "\n",
              "    .dataframe tbody tr th {\n",
              "        vertical-align: top;\n",
              "    }\n",
              "\n",
              "    .dataframe thead th {\n",
              "        text-align: right;\n",
              "    }\n",
              "</style>\n",
              "<table border=\"1\" class=\"dataframe\">\n",
              "  <thead>\n",
              "    <tr style=\"text-align: right;\">\n",
              "      <th></th>\n",
              "      <th>id</th>\n",
              "      <th>target</th>\n",
              "    </tr>\n",
              "  </thead>\n",
              "  <tbody>\n",
              "    <tr>\n",
              "      <th>count</th>\n",
              "      <td>7613.000000</td>\n",
              "      <td>7613.00000</td>\n",
              "    </tr>\n",
              "    <tr>\n",
              "      <th>mean</th>\n",
              "      <td>5441.934848</td>\n",
              "      <td>0.42966</td>\n",
              "    </tr>\n",
              "    <tr>\n",
              "      <th>std</th>\n",
              "      <td>3137.116090</td>\n",
              "      <td>0.49506</td>\n",
              "    </tr>\n",
              "    <tr>\n",
              "      <th>min</th>\n",
              "      <td>1.000000</td>\n",
              "      <td>0.00000</td>\n",
              "    </tr>\n",
              "    <tr>\n",
              "      <th>25%</th>\n",
              "      <td>2734.000000</td>\n",
              "      <td>0.00000</td>\n",
              "    </tr>\n",
              "    <tr>\n",
              "      <th>50%</th>\n",
              "      <td>5408.000000</td>\n",
              "      <td>0.00000</td>\n",
              "    </tr>\n",
              "    <tr>\n",
              "      <th>75%</th>\n",
              "      <td>8146.000000</td>\n",
              "      <td>1.00000</td>\n",
              "    </tr>\n",
              "    <tr>\n",
              "      <th>max</th>\n",
              "      <td>10873.000000</td>\n",
              "      <td>1.00000</td>\n",
              "    </tr>\n",
              "  </tbody>\n",
              "</table>\n",
              "</div>\n",
              "    <div class=\"colab-df-buttons\">\n",
              "\n",
              "  <div class=\"colab-df-container\">\n",
              "    <button class=\"colab-df-convert\" onclick=\"convertToInteractive('df-c406a42e-2081-42bb-a7ba-94e02d05a854')\"\n",
              "            title=\"Convert this dataframe to an interactive table.\"\n",
              "            style=\"display:none;\">\n",
              "\n",
              "  <svg xmlns=\"http://www.w3.org/2000/svg\" height=\"24px\" viewBox=\"0 -960 960 960\">\n",
              "    <path d=\"M120-120v-720h720v720H120Zm60-500h600v-160H180v160Zm220 220h160v-160H400v160Zm0 220h160v-160H400v160ZM180-400h160v-160H180v160Zm440 0h160v-160H620v160ZM180-180h160v-160H180v160Zm440 0h160v-160H620v160Z\"/>\n",
              "  </svg>\n",
              "    </button>\n",
              "\n",
              "  <style>\n",
              "    .colab-df-container {\n",
              "      display:flex;\n",
              "      gap: 12px;\n",
              "    }\n",
              "\n",
              "    .colab-df-convert {\n",
              "      background-color: #E8F0FE;\n",
              "      border: none;\n",
              "      border-radius: 50%;\n",
              "      cursor: pointer;\n",
              "      display: none;\n",
              "      fill: #1967D2;\n",
              "      height: 32px;\n",
              "      padding: 0 0 0 0;\n",
              "      width: 32px;\n",
              "    }\n",
              "\n",
              "    .colab-df-convert:hover {\n",
              "      background-color: #E2EBFA;\n",
              "      box-shadow: 0px 1px 2px rgba(60, 64, 67, 0.3), 0px 1px 3px 1px rgba(60, 64, 67, 0.15);\n",
              "      fill: #174EA6;\n",
              "    }\n",
              "\n",
              "    .colab-df-buttons div {\n",
              "      margin-bottom: 4px;\n",
              "    }\n",
              "\n",
              "    [theme=dark] .colab-df-convert {\n",
              "      background-color: #3B4455;\n",
              "      fill: #D2E3FC;\n",
              "    }\n",
              "\n",
              "    [theme=dark] .colab-df-convert:hover {\n",
              "      background-color: #434B5C;\n",
              "      box-shadow: 0px 1px 3px 1px rgba(0, 0, 0, 0.15);\n",
              "      filter: drop-shadow(0px 1px 2px rgba(0, 0, 0, 0.3));\n",
              "      fill: #FFFFFF;\n",
              "    }\n",
              "  </style>\n",
              "\n",
              "    <script>\n",
              "      const buttonEl =\n",
              "        document.querySelector('#df-c406a42e-2081-42bb-a7ba-94e02d05a854 button.colab-df-convert');\n",
              "      buttonEl.style.display =\n",
              "        google.colab.kernel.accessAllowed ? 'block' : 'none';\n",
              "\n",
              "      async function convertToInteractive(key) {\n",
              "        const element = document.querySelector('#df-c406a42e-2081-42bb-a7ba-94e02d05a854');\n",
              "        const dataTable =\n",
              "          await google.colab.kernel.invokeFunction('convertToInteractive',\n",
              "                                                    [key], {});\n",
              "        if (!dataTable) return;\n",
              "\n",
              "        const docLinkHtml = 'Like what you see? Visit the ' +\n",
              "          '<a target=\"_blank\" href=https://colab.research.google.com/notebooks/data_table.ipynb>data table notebook</a>'\n",
              "          + ' to learn more about interactive tables.';\n",
              "        element.innerHTML = '';\n",
              "        dataTable['output_type'] = 'display_data';\n",
              "        await google.colab.output.renderOutput(dataTable, element);\n",
              "        const docLink = document.createElement('div');\n",
              "        docLink.innerHTML = docLinkHtml;\n",
              "        element.appendChild(docLink);\n",
              "      }\n",
              "    </script>\n",
              "  </div>\n",
              "\n",
              "\n",
              "<div id=\"df-6cfbb318-4c02-44c4-98e4-0838a62c4f67\">\n",
              "  <button class=\"colab-df-quickchart\" onclick=\"quickchart('df-6cfbb318-4c02-44c4-98e4-0838a62c4f67')\"\n",
              "            title=\"Suggest charts\"\n",
              "            style=\"display:none;\">\n",
              "\n",
              "<svg xmlns=\"http://www.w3.org/2000/svg\" height=\"24px\"viewBox=\"0 0 24 24\"\n",
              "     width=\"24px\">\n",
              "    <g>\n",
              "        <path d=\"M19 3H5c-1.1 0-2 .9-2 2v14c0 1.1.9 2 2 2h14c1.1 0 2-.9 2-2V5c0-1.1-.9-2-2-2zM9 17H7v-7h2v7zm4 0h-2V7h2v10zm4 0h-2v-4h2v4z\"/>\n",
              "    </g>\n",
              "</svg>\n",
              "  </button>\n",
              "\n",
              "<style>\n",
              "  .colab-df-quickchart {\n",
              "      --bg-color: #E8F0FE;\n",
              "      --fill-color: #1967D2;\n",
              "      --hover-bg-color: #E2EBFA;\n",
              "      --hover-fill-color: #174EA6;\n",
              "      --disabled-fill-color: #AAA;\n",
              "      --disabled-bg-color: #DDD;\n",
              "  }\n",
              "\n",
              "  [theme=dark] .colab-df-quickchart {\n",
              "      --bg-color: #3B4455;\n",
              "      --fill-color: #D2E3FC;\n",
              "      --hover-bg-color: #434B5C;\n",
              "      --hover-fill-color: #FFFFFF;\n",
              "      --disabled-bg-color: #3B4455;\n",
              "      --disabled-fill-color: #666;\n",
              "  }\n",
              "\n",
              "  .colab-df-quickchart {\n",
              "    background-color: var(--bg-color);\n",
              "    border: none;\n",
              "    border-radius: 50%;\n",
              "    cursor: pointer;\n",
              "    display: none;\n",
              "    fill: var(--fill-color);\n",
              "    height: 32px;\n",
              "    padding: 0;\n",
              "    width: 32px;\n",
              "  }\n",
              "\n",
              "  .colab-df-quickchart:hover {\n",
              "    background-color: var(--hover-bg-color);\n",
              "    box-shadow: 0 1px 2px rgba(60, 64, 67, 0.3), 0 1px 3px 1px rgba(60, 64, 67, 0.15);\n",
              "    fill: var(--button-hover-fill-color);\n",
              "  }\n",
              "\n",
              "  .colab-df-quickchart-complete:disabled,\n",
              "  .colab-df-quickchart-complete:disabled:hover {\n",
              "    background-color: var(--disabled-bg-color);\n",
              "    fill: var(--disabled-fill-color);\n",
              "    box-shadow: none;\n",
              "  }\n",
              "\n",
              "  .colab-df-spinner {\n",
              "    border: 2px solid var(--fill-color);\n",
              "    border-color: transparent;\n",
              "    border-bottom-color: var(--fill-color);\n",
              "    animation:\n",
              "      spin 1s steps(1) infinite;\n",
              "  }\n",
              "\n",
              "  @keyframes spin {\n",
              "    0% {\n",
              "      border-color: transparent;\n",
              "      border-bottom-color: var(--fill-color);\n",
              "      border-left-color: var(--fill-color);\n",
              "    }\n",
              "    20% {\n",
              "      border-color: transparent;\n",
              "      border-left-color: var(--fill-color);\n",
              "      border-top-color: var(--fill-color);\n",
              "    }\n",
              "    30% {\n",
              "      border-color: transparent;\n",
              "      border-left-color: var(--fill-color);\n",
              "      border-top-color: var(--fill-color);\n",
              "      border-right-color: var(--fill-color);\n",
              "    }\n",
              "    40% {\n",
              "      border-color: transparent;\n",
              "      border-right-color: var(--fill-color);\n",
              "      border-top-color: var(--fill-color);\n",
              "    }\n",
              "    60% {\n",
              "      border-color: transparent;\n",
              "      border-right-color: var(--fill-color);\n",
              "    }\n",
              "    80% {\n",
              "      border-color: transparent;\n",
              "      border-right-color: var(--fill-color);\n",
              "      border-bottom-color: var(--fill-color);\n",
              "    }\n",
              "    90% {\n",
              "      border-color: transparent;\n",
              "      border-bottom-color: var(--fill-color);\n",
              "    }\n",
              "  }\n",
              "</style>\n",
              "\n",
              "  <script>\n",
              "    async function quickchart(key) {\n",
              "      const quickchartButtonEl =\n",
              "        document.querySelector('#' + key + ' button');\n",
              "      quickchartButtonEl.disabled = true;  // To prevent multiple clicks.\n",
              "      quickchartButtonEl.classList.add('colab-df-spinner');\n",
              "      try {\n",
              "        const charts = await google.colab.kernel.invokeFunction(\n",
              "            'suggestCharts', [key], {});\n",
              "      } catch (error) {\n",
              "        console.error('Error during call to suggestCharts:', error);\n",
              "      }\n",
              "      quickchartButtonEl.classList.remove('colab-df-spinner');\n",
              "      quickchartButtonEl.classList.add('colab-df-quickchart-complete');\n",
              "    }\n",
              "    (() => {\n",
              "      let quickchartButtonEl =\n",
              "        document.querySelector('#df-6cfbb318-4c02-44c4-98e4-0838a62c4f67 button');\n",
              "      quickchartButtonEl.style.display =\n",
              "        google.colab.kernel.accessAllowed ? 'block' : 'none';\n",
              "    })();\n",
              "  </script>\n",
              "</div>\n",
              "\n",
              "    </div>\n",
              "  </div>\n"
            ],
            "text/plain": [
              "                 id      target\n",
              "count   7613.000000  7613.00000\n",
              "mean    5441.934848     0.42966\n",
              "std     3137.116090     0.49506\n",
              "min        1.000000     0.00000\n",
              "25%     2734.000000     0.00000\n",
              "50%     5408.000000     0.00000\n",
              "75%     8146.000000     1.00000\n",
              "max    10873.000000     1.00000"
            ]
          },
          "execution_count": 411,
          "metadata": {},
          "output_type": "execute_result"
        }
      ],
      "source": [
        "train_df.describe()"
      ]
    },
    {
      "cell_type": "code",
      "execution_count": null,
      "metadata": {
        "colab": {
          "base_uri": "https://localhost:8080/",
          "height": 206
        },
        "execution": {
          "iopub.execute_input": "2025-02-19T17:08:17.898939Z",
          "iopub.status.busy": "2025-02-19T17:08:17.898644Z",
          "iopub.status.idle": "2025-02-19T17:08:17.909249Z",
          "shell.execute_reply": "2025-02-19T17:08:17.907971Z",
          "shell.execute_reply.started": "2025-02-19T17:08:17.898916Z"
        },
        "id": "PtA8zObzgarJ",
        "outputId": "ef66f072-cb29-4895-926c-55f79b21d306",
        "trusted": true
      },
      "outputs": [
        {
          "data": {
            "application/vnd.google.colaboratory.intrinsic+json": {
              "summary": "{\n  \"name\": \"test_df\",\n  \"rows\": 3263,\n  \"fields\": [\n    {\n      \"column\": \"id\",\n      \"properties\": {\n        \"dtype\": \"number\",\n        \"std\": 3146,\n        \"min\": 0,\n        \"max\": 10875,\n        \"num_unique_values\": 3263,\n        \"samples\": [\n          8051,\n          425,\n          1330\n        ],\n        \"semantic_type\": \"\",\n        \"description\": \"\"\n      }\n    },\n    {\n      \"column\": \"keyword\",\n      \"properties\": {\n        \"dtype\": \"category\",\n        \"num_unique_values\": 221,\n        \"samples\": [\n          \"injury\",\n          \"nuclear%20reactor\",\n          \"engulfed\"\n        ],\n        \"semantic_type\": \"\",\n        \"description\": \"\"\n      }\n    },\n    {\n      \"column\": \"location\",\n      \"properties\": {\n        \"dtype\": \"category\",\n        \"num_unique_values\": 1602,\n        \"samples\": [\n          \"UAE\",\n          \"Tokio / Tokyo\",\n          \"Texas\"\n        ],\n        \"semantic_type\": \"\",\n        \"description\": \"\"\n      }\n    },\n    {\n      \"column\": \"text\",\n      \"properties\": {\n        \"dtype\": \"string\",\n        \"num_unique_values\": 3243,\n        \"samples\": [\n          \"Latest: USA: Huge sinkhole swallows up Brooklyn intersection http://t.co/vspKHg3nZy\",\n          \"I liked a @YouTube video http://t.co/a5YTAw9Vih S.O.S. Rona Guide - The Red Whirlwind\",\n          \"HitchBot travels Europe and greeted with open arms. Gets destroyed after two weeks in america. There's a lesson to be learned here.\"\n        ],\n        \"semantic_type\": \"\",\n        \"description\": \"\"\n      }\n    }\n  ]\n}",
              "type": "dataframe",
              "variable_name": "test_df"
            },
            "text/html": [
              "\n",
              "  <div id=\"df-2f7b0e1d-b8f3-4718-9287-8558976242e0\" class=\"colab-df-container\">\n",
              "    <div>\n",
              "<style scoped>\n",
              "    .dataframe tbody tr th:only-of-type {\n",
              "        vertical-align: middle;\n",
              "    }\n",
              "\n",
              "    .dataframe tbody tr th {\n",
              "        vertical-align: top;\n",
              "    }\n",
              "\n",
              "    .dataframe thead th {\n",
              "        text-align: right;\n",
              "    }\n",
              "</style>\n",
              "<table border=\"1\" class=\"dataframe\">\n",
              "  <thead>\n",
              "    <tr style=\"text-align: right;\">\n",
              "      <th></th>\n",
              "      <th>id</th>\n",
              "      <th>keyword</th>\n",
              "      <th>location</th>\n",
              "      <th>text</th>\n",
              "    </tr>\n",
              "  </thead>\n",
              "  <tbody>\n",
              "    <tr>\n",
              "      <th>0</th>\n",
              "      <td>0</td>\n",
              "      <td>NaN</td>\n",
              "      <td>NaN</td>\n",
              "      <td>Just happened a terrible car crash</td>\n",
              "    </tr>\n",
              "    <tr>\n",
              "      <th>1</th>\n",
              "      <td>2</td>\n",
              "      <td>NaN</td>\n",
              "      <td>NaN</td>\n",
              "      <td>Heard about #earthquake is different cities, s...</td>\n",
              "    </tr>\n",
              "    <tr>\n",
              "      <th>2</th>\n",
              "      <td>3</td>\n",
              "      <td>NaN</td>\n",
              "      <td>NaN</td>\n",
              "      <td>there is a forest fire at spot pond, geese are...</td>\n",
              "    </tr>\n",
              "    <tr>\n",
              "      <th>3</th>\n",
              "      <td>9</td>\n",
              "      <td>NaN</td>\n",
              "      <td>NaN</td>\n",
              "      <td>Apocalypse lighting. #Spokane #wildfires</td>\n",
              "    </tr>\n",
              "    <tr>\n",
              "      <th>4</th>\n",
              "      <td>11</td>\n",
              "      <td>NaN</td>\n",
              "      <td>NaN</td>\n",
              "      <td>Typhoon Soudelor kills 28 in China and Taiwan</td>\n",
              "    </tr>\n",
              "  </tbody>\n",
              "</table>\n",
              "</div>\n",
              "    <div class=\"colab-df-buttons\">\n",
              "\n",
              "  <div class=\"colab-df-container\">\n",
              "    <button class=\"colab-df-convert\" onclick=\"convertToInteractive('df-2f7b0e1d-b8f3-4718-9287-8558976242e0')\"\n",
              "            title=\"Convert this dataframe to an interactive table.\"\n",
              "            style=\"display:none;\">\n",
              "\n",
              "  <svg xmlns=\"http://www.w3.org/2000/svg\" height=\"24px\" viewBox=\"0 -960 960 960\">\n",
              "    <path d=\"M120-120v-720h720v720H120Zm60-500h600v-160H180v160Zm220 220h160v-160H400v160Zm0 220h160v-160H400v160ZM180-400h160v-160H180v160Zm440 0h160v-160H620v160ZM180-180h160v-160H180v160Zm440 0h160v-160H620v160Z\"/>\n",
              "  </svg>\n",
              "    </button>\n",
              "\n",
              "  <style>\n",
              "    .colab-df-container {\n",
              "      display:flex;\n",
              "      gap: 12px;\n",
              "    }\n",
              "\n",
              "    .colab-df-convert {\n",
              "      background-color: #E8F0FE;\n",
              "      border: none;\n",
              "      border-radius: 50%;\n",
              "      cursor: pointer;\n",
              "      display: none;\n",
              "      fill: #1967D2;\n",
              "      height: 32px;\n",
              "      padding: 0 0 0 0;\n",
              "      width: 32px;\n",
              "    }\n",
              "\n",
              "    .colab-df-convert:hover {\n",
              "      background-color: #E2EBFA;\n",
              "      box-shadow: 0px 1px 2px rgba(60, 64, 67, 0.3), 0px 1px 3px 1px rgba(60, 64, 67, 0.15);\n",
              "      fill: #174EA6;\n",
              "    }\n",
              "\n",
              "    .colab-df-buttons div {\n",
              "      margin-bottom: 4px;\n",
              "    }\n",
              "\n",
              "    [theme=dark] .colab-df-convert {\n",
              "      background-color: #3B4455;\n",
              "      fill: #D2E3FC;\n",
              "    }\n",
              "\n",
              "    [theme=dark] .colab-df-convert:hover {\n",
              "      background-color: #434B5C;\n",
              "      box-shadow: 0px 1px 3px 1px rgba(0, 0, 0, 0.15);\n",
              "      filter: drop-shadow(0px 1px 2px rgba(0, 0, 0, 0.3));\n",
              "      fill: #FFFFFF;\n",
              "    }\n",
              "  </style>\n",
              "\n",
              "    <script>\n",
              "      const buttonEl =\n",
              "        document.querySelector('#df-2f7b0e1d-b8f3-4718-9287-8558976242e0 button.colab-df-convert');\n",
              "      buttonEl.style.display =\n",
              "        google.colab.kernel.accessAllowed ? 'block' : 'none';\n",
              "\n",
              "      async function convertToInteractive(key) {\n",
              "        const element = document.querySelector('#df-2f7b0e1d-b8f3-4718-9287-8558976242e0');\n",
              "        const dataTable =\n",
              "          await google.colab.kernel.invokeFunction('convertToInteractive',\n",
              "                                                    [key], {});\n",
              "        if (!dataTable) return;\n",
              "\n",
              "        const docLinkHtml = 'Like what you see? Visit the ' +\n",
              "          '<a target=\"_blank\" href=https://colab.research.google.com/notebooks/data_table.ipynb>data table notebook</a>'\n",
              "          + ' to learn more about interactive tables.';\n",
              "        element.innerHTML = '';\n",
              "        dataTable['output_type'] = 'display_data';\n",
              "        await google.colab.output.renderOutput(dataTable, element);\n",
              "        const docLink = document.createElement('div');\n",
              "        docLink.innerHTML = docLinkHtml;\n",
              "        element.appendChild(docLink);\n",
              "      }\n",
              "    </script>\n",
              "  </div>\n",
              "\n",
              "\n",
              "<div id=\"df-c7212751-d213-4836-b6fb-7ae55671f1bd\">\n",
              "  <button class=\"colab-df-quickchart\" onclick=\"quickchart('df-c7212751-d213-4836-b6fb-7ae55671f1bd')\"\n",
              "            title=\"Suggest charts\"\n",
              "            style=\"display:none;\">\n",
              "\n",
              "<svg xmlns=\"http://www.w3.org/2000/svg\" height=\"24px\"viewBox=\"0 0 24 24\"\n",
              "     width=\"24px\">\n",
              "    <g>\n",
              "        <path d=\"M19 3H5c-1.1 0-2 .9-2 2v14c0 1.1.9 2 2 2h14c1.1 0 2-.9 2-2V5c0-1.1-.9-2-2-2zM9 17H7v-7h2v7zm4 0h-2V7h2v10zm4 0h-2v-4h2v4z\"/>\n",
              "    </g>\n",
              "</svg>\n",
              "  </button>\n",
              "\n",
              "<style>\n",
              "  .colab-df-quickchart {\n",
              "      --bg-color: #E8F0FE;\n",
              "      --fill-color: #1967D2;\n",
              "      --hover-bg-color: #E2EBFA;\n",
              "      --hover-fill-color: #174EA6;\n",
              "      --disabled-fill-color: #AAA;\n",
              "      --disabled-bg-color: #DDD;\n",
              "  }\n",
              "\n",
              "  [theme=dark] .colab-df-quickchart {\n",
              "      --bg-color: #3B4455;\n",
              "      --fill-color: #D2E3FC;\n",
              "      --hover-bg-color: #434B5C;\n",
              "      --hover-fill-color: #FFFFFF;\n",
              "      --disabled-bg-color: #3B4455;\n",
              "      --disabled-fill-color: #666;\n",
              "  }\n",
              "\n",
              "  .colab-df-quickchart {\n",
              "    background-color: var(--bg-color);\n",
              "    border: none;\n",
              "    border-radius: 50%;\n",
              "    cursor: pointer;\n",
              "    display: none;\n",
              "    fill: var(--fill-color);\n",
              "    height: 32px;\n",
              "    padding: 0;\n",
              "    width: 32px;\n",
              "  }\n",
              "\n",
              "  .colab-df-quickchart:hover {\n",
              "    background-color: var(--hover-bg-color);\n",
              "    box-shadow: 0 1px 2px rgba(60, 64, 67, 0.3), 0 1px 3px 1px rgba(60, 64, 67, 0.15);\n",
              "    fill: var(--button-hover-fill-color);\n",
              "  }\n",
              "\n",
              "  .colab-df-quickchart-complete:disabled,\n",
              "  .colab-df-quickchart-complete:disabled:hover {\n",
              "    background-color: var(--disabled-bg-color);\n",
              "    fill: var(--disabled-fill-color);\n",
              "    box-shadow: none;\n",
              "  }\n",
              "\n",
              "  .colab-df-spinner {\n",
              "    border: 2px solid var(--fill-color);\n",
              "    border-color: transparent;\n",
              "    border-bottom-color: var(--fill-color);\n",
              "    animation:\n",
              "      spin 1s steps(1) infinite;\n",
              "  }\n",
              "\n",
              "  @keyframes spin {\n",
              "    0% {\n",
              "      border-color: transparent;\n",
              "      border-bottom-color: var(--fill-color);\n",
              "      border-left-color: var(--fill-color);\n",
              "    }\n",
              "    20% {\n",
              "      border-color: transparent;\n",
              "      border-left-color: var(--fill-color);\n",
              "      border-top-color: var(--fill-color);\n",
              "    }\n",
              "    30% {\n",
              "      border-color: transparent;\n",
              "      border-left-color: var(--fill-color);\n",
              "      border-top-color: var(--fill-color);\n",
              "      border-right-color: var(--fill-color);\n",
              "    }\n",
              "    40% {\n",
              "      border-color: transparent;\n",
              "      border-right-color: var(--fill-color);\n",
              "      border-top-color: var(--fill-color);\n",
              "    }\n",
              "    60% {\n",
              "      border-color: transparent;\n",
              "      border-right-color: var(--fill-color);\n",
              "    }\n",
              "    80% {\n",
              "      border-color: transparent;\n",
              "      border-right-color: var(--fill-color);\n",
              "      border-bottom-color: var(--fill-color);\n",
              "    }\n",
              "    90% {\n",
              "      border-color: transparent;\n",
              "      border-bottom-color: var(--fill-color);\n",
              "    }\n",
              "  }\n",
              "</style>\n",
              "\n",
              "  <script>\n",
              "    async function quickchart(key) {\n",
              "      const quickchartButtonEl =\n",
              "        document.querySelector('#' + key + ' button');\n",
              "      quickchartButtonEl.disabled = true;  // To prevent multiple clicks.\n",
              "      quickchartButtonEl.classList.add('colab-df-spinner');\n",
              "      try {\n",
              "        const charts = await google.colab.kernel.invokeFunction(\n",
              "            'suggestCharts', [key], {});\n",
              "      } catch (error) {\n",
              "        console.error('Error during call to suggestCharts:', error);\n",
              "      }\n",
              "      quickchartButtonEl.classList.remove('colab-df-spinner');\n",
              "      quickchartButtonEl.classList.add('colab-df-quickchart-complete');\n",
              "    }\n",
              "    (() => {\n",
              "      let quickchartButtonEl =\n",
              "        document.querySelector('#df-c7212751-d213-4836-b6fb-7ae55671f1bd button');\n",
              "      quickchartButtonEl.style.display =\n",
              "        google.colab.kernel.accessAllowed ? 'block' : 'none';\n",
              "    })();\n",
              "  </script>\n",
              "</div>\n",
              "\n",
              "    </div>\n",
              "  </div>\n"
            ],
            "text/plain": [
              "   id keyword location                                               text\n",
              "0   0     NaN      NaN                 Just happened a terrible car crash\n",
              "1   2     NaN      NaN  Heard about #earthquake is different cities, s...\n",
              "2   3     NaN      NaN  there is a forest fire at spot pond, geese are...\n",
              "3   9     NaN      NaN           Apocalypse lighting. #Spokane #wildfires\n",
              "4  11     NaN      NaN      Typhoon Soudelor kills 28 in China and Taiwan"
            ]
          },
          "execution_count": 412,
          "metadata": {},
          "output_type": "execute_result"
        }
      ],
      "source": [
        "test_df.head()"
      ]
    },
    {
      "cell_type": "code",
      "execution_count": null,
      "metadata": {
        "colab": {
          "base_uri": "https://localhost:8080/",
          "height": 461
        },
        "execution": {
          "iopub.execute_input": "2025-02-19T17:08:17.91088Z",
          "iopub.status.busy": "2025-02-19T17:08:17.910498Z",
          "iopub.status.idle": "2025-02-19T17:08:18.05902Z",
          "shell.execute_reply": "2025-02-19T17:08:18.057816Z",
          "shell.execute_reply.started": "2025-02-19T17:08:17.910837Z"
        },
        "id": "dA92yz2IgarJ",
        "outputId": "fc950c60-3040-4ef6-ff6a-c578682ce1f2",
        "trusted": true
      },
      "outputs": [
        {
          "data": {
            "text/plain": [
              "<Axes: xlabel='target'>"
            ]
          },
          "execution_count": 413,
          "metadata": {},
          "output_type": "execute_result"
        },
        {
          "data": {
            "image/png": "[encoded data removed]",
            "text/plain": [
              "<Figure size 640x480 with 1 Axes>"
            ]
          },
          "metadata": {},
          "output_type": "display_data"
        }
      ],
      "source": [
        "train_df['target'].value_counts().plot.bar()"
      ]
    },
    {
      "cell_type": "code",
      "execution_count": null,
      "metadata": {
        "colab": {
          "base_uri": "https://localhost:8080/"
        },
        "execution": {
          "iopub.execute_input": "2025-02-19T17:08:18.060449Z",
          "iopub.status.busy": "2025-02-19T17:08:18.060074Z",
          "iopub.status.idle": "2025-02-19T17:08:18.070315Z",
          "shell.execute_reply": "2025-02-19T17:08:18.068965Z",
          "shell.execute_reply.started": "2025-02-19T17:08:18.060387Z"
        },
        "id": "0apDOGXzgarJ",
        "outputId": "d2d65007-56de-4765-801c-f6ef886492a2",
        "trusted": true
      },
      "outputs": [
        {
          "name": "stdout",
          "output_type": "stream",
          "text": [
            "id           0.000000\n",
            "keyword      0.801261\n",
            "location    33.272035\n",
            "text         0.000000\n",
            "target       0.000000\n",
            "dtype: float64\n"
          ]
        }
      ],
      "source": [
        "print((train_df.isnull().sum() / len(train_df)) * 100)"
      ]
    },
    {
      "cell_type": "code",
      "execution_count": null,
      "metadata": {
        "colab": {
          "base_uri": "https://localhost:8080/"
        },
        "execution": {
          "iopub.execute_input": "2025-02-19T17:08:18.071952Z",
          "iopub.status.busy": "2025-02-19T17:08:18.07166Z",
          "iopub.status.idle": "2025-02-19T17:08:18.09802Z",
          "shell.execute_reply": "2025-02-19T17:08:18.096727Z",
          "shell.execute_reply.started": "2025-02-19T17:08:18.071926Z"
        },
        "id": "exGyStxNgarJ",
        "outputId": "406e62c6-2670-4d6e-8f25-f9d657c80f8b",
        "trusted": true
      },
      "outputs": [
        {
          "name": "stdout",
          "output_type": "stream",
          "text": [
            "id           0.000000\n",
            "keyword      0.437586\n",
            "location    33.578996\n",
            "text         0.000000\n",
            "target       0.000000\n",
            "dtype: float64\n"
          ]
        }
      ],
      "source": [
        "print((train_df[train_df['target'] == 0].isnull().sum() / len(train_df[train_df['target'] == 0])) * 100)\n",
        "\n",
        "# ~34% of data location is missing\n",
        "# 0.4% of keyword is missing"
      ]
    },
    {
      "cell_type": "code",
      "execution_count": null,
      "metadata": {
        "colab": {
          "base_uri": "https://localhost:8080/"
        },
        "execution": {
          "iopub.execute_input": "2025-02-19T17:08:18.099722Z",
          "iopub.status.busy": "2025-02-19T17:08:18.099315Z",
          "iopub.status.idle": "2025-02-19T17:08:18.122354Z",
          "shell.execute_reply": "2025-02-19T17:08:18.121062Z",
          "shell.execute_reply.started": "2025-02-19T17:08:18.099694Z"
        },
        "id": "JAlflR6lgarK",
        "outputId": "34caa205-19cd-4ac6-b0e4-e65fdee5c4cb",
        "trusted": true
      },
      "outputs": [
        {
          "name": "stdout",
          "output_type": "stream",
          "text": [
            "id           0.000000\n",
            "keyword      1.284011\n",
            "location    32.864567\n",
            "text         0.000000\n",
            "target       0.000000\n",
            "dtype: float64\n"
          ]
        }
      ],
      "source": [
        "print((train_df[train_df['target'] == 1].isnull().sum() / len(train_df[train_df['target'] == 1])) * 100)\n",
        "\n",
        "# ~33% of data location is missing\n",
        "# 1.3% of keyword is missing"
      ]
    },
    {
      "cell_type": "code",
      "execution_count": null,
      "metadata": {
        "colab": {
          "base_uri": "https://localhost:8080/"
        },
        "execution": {
          "iopub.execute_input": "2025-02-19T17:08:18.12388Z",
          "iopub.status.busy": "2025-02-19T17:08:18.123575Z",
          "iopub.status.idle": "2025-02-19T17:08:18.137773Z",
          "shell.execute_reply": "2025-02-19T17:08:18.136682Z",
          "shell.execute_reply.started": "2025-02-19T17:08:18.123854Z"
        },
        "id": "qpuBP2d1garK",
        "outputId": "81a887c2-0082-450f-8080-9af66c534fdc",
        "trusted": true
      },
      "outputs": [
        {
          "name": "stdout",
          "output_type": "stream",
          "text": [
            "[nan 'ablaze' 'accident' 'aftershock' 'airplane%20accident' 'ambulance'\n",
            " 'annihilated' 'annihilation' 'apocalypse' 'armageddon' 'army' 'arson'\n",
            " 'arsonist' 'attack' 'attacked' 'avalanche' 'battle' 'bioterror'\n",
            " 'bioterrorism' 'blaze' 'blazing' 'bleeding' 'blew%20up' 'blight'\n",
            " 'blizzard' 'blood' 'bloody' 'blown%20up' 'body%20bag' 'body%20bagging'\n",
            " 'body%20bags' 'bomb' 'bombed' 'bombing' 'bridge%20collapse'\n",
            " 'buildings%20burning' 'buildings%20on%20fire' 'burned' 'burning'\n",
            " 'burning%20buildings' 'bush%20fires' 'casualties' 'casualty'\n",
            " 'catastrophe' 'catastrophic' 'chemical%20emergency' 'cliff%20fall'\n",
            " 'collapse' 'collapsed' 'collide' 'collided' 'collision' 'crash' 'crashed'\n",
            " 'crush' 'crushed' 'curfew' 'cyclone' 'damage' 'danger' 'dead' 'death'\n",
            " 'deaths' 'debris' 'deluge' 'deluged' 'demolish' 'demolished' 'demolition'\n",
            " 'derail' 'derailed' 'derailment' 'desolate' 'desolation' 'destroy'\n",
            " 'destroyed' 'destruction' 'detonate' 'detonation' 'devastated'\n",
            " 'devastation' 'disaster' 'displaced' 'drought' 'drown' 'drowned'\n",
            " 'drowning' 'dust%20storm' 'earthquake' 'electrocute' 'electrocuted'\n",
            " 'emergency' 'emergency%20plan' 'emergency%20services' 'engulfed'\n",
            " 'epicentre' 'evacuate' 'evacuated' 'evacuation' 'explode' 'exploded'\n",
            " 'explosion' 'eyewitness' 'famine' 'fatal' 'fatalities' 'fatality' 'fear'\n",
            " 'fire' 'fire%20truck' 'first%20responders' 'flames' 'flattened' 'flood'\n",
            " 'flooding' 'floods' 'forest%20fire' 'forest%20fires' 'hail' 'hailstorm'\n",
            " 'harm' 'hazard' 'hazardous' 'heat%20wave' 'hellfire' 'hijack' 'hijacker'\n",
            " 'hijacking' 'hostage' 'hostages' 'hurricane' 'injured' 'injuries'\n",
            " 'injury' 'inundated' 'inundation' 'landslide' 'lava' 'lightning'\n",
            " 'loud%20bang' 'mass%20murder' 'mass%20murderer' 'massacre' 'mayhem'\n",
            " 'meltdown' 'military' 'mudslide' 'natural%20disaster'\n",
            " 'nuclear%20disaster' 'nuclear%20reactor' 'obliterate' 'obliterated'\n",
            " 'obliteration' 'oil%20spill' 'outbreak' 'pandemonium' 'panic' 'panicking'\n",
            " 'police' 'quarantine' 'quarantined' 'radiation%20emergency' 'rainstorm'\n",
            " 'razed' 'refugees' 'rescue' 'rescued' 'rescuers' 'riot' 'rioting'\n",
            " 'rubble' 'ruin' 'sandstorm' 'screamed' 'screaming' 'screams' 'seismic'\n",
            " 'sinkhole' 'sinking' 'siren' 'sirens' 'smoke' 'snowstorm' 'storm'\n",
            " 'stretcher' 'structural%20failure' 'suicide%20bomb' 'suicide%20bomber'\n",
            " 'suicide%20bombing' 'sunk' 'survive' 'survived' 'survivors' 'terrorism'\n",
            " 'terrorist' 'threat' 'thunder' 'thunderstorm' 'tornado' 'tragedy'\n",
            " 'trapped' 'trauma' 'traumatised' 'trouble' 'tsunami' 'twister' 'typhoon'\n",
            " 'upheaval' 'violent%20storm' 'volcano' 'war%20zone' 'weapon' 'weapons'\n",
            " 'whirlwind' 'wild%20fires' 'wildfire' 'windstorm' 'wounded' 'wounds'\n",
            " 'wreck' 'wreckage' 'wrecked']\n",
            "Length:  222\n"
          ]
        }
      ],
      "source": [
        "unique_keywords = train_df['keyword'].unique()\n",
        "print(unique_keywords)\n",
        "print('Length: ', len(unique_keywords))"
      ]
    },
    {
      "cell_type": "code",
      "execution_count": null,
      "metadata": {
        "colab": {
          "base_uri": "https://localhost:8080/"
        },
        "execution": {
          "iopub.execute_input": "2025-02-19T17:08:18.1391Z",
          "iopub.status.busy": "2025-02-19T17:08:18.138713Z",
          "iopub.status.idle": "2025-02-19T17:08:18.160479Z",
          "shell.execute_reply": "2025-02-19T17:08:18.159252Z",
          "shell.execute_reply.started": "2025-02-19T17:08:18.139074Z"
        },
        "id": "OZcrFYNPgarK",
        "outputId": "0b0a681a-b9de-40ea-9daa-0cc821665c69",
        "trusted": true
      },
      "outputs": [
        {
          "name": "stdout",
          "output_type": "stream",
          "text": [
            "[nan 'Birmingham' 'Est. September 2012 - Bristol' ... 'Vancouver, Canada'\n",
            " 'London ' 'Lincoln']\n",
            "Length:  3342\n"
          ]
        }
      ],
      "source": [
        "unique_locations = train_df['location'].unique()\n",
        "print(unique_locations)\n",
        "print('Length: ', len(unique_locations))"
      ]
    },
    {
      "cell_type": "code",
      "execution_count": null,
      "metadata": {
        "colab": {
          "base_uri": "https://localhost:8080/",
          "height": 564
        },
        "execution": {
          "iopub.execute_input": "2025-02-19T17:08:18.163086Z",
          "iopub.status.busy": "2025-02-19T17:08:18.162793Z",
          "iopub.status.idle": "2025-02-19T17:08:18.394985Z",
          "shell.execute_reply": "2025-02-19T17:08:18.393823Z",
          "shell.execute_reply.started": "2025-02-19T17:08:18.163062Z"
        },
        "id": "Rsb_0ib6garK",
        "outputId": "b4dfbd85-a4c3-49d0-967a-9565de202863",
        "trusted": true
      },
      "outputs": [
        {
          "data": {
            "image/png": "[encoded data removed]",
            "text/plain": [
              "<Figure size 800x600 with 1 Axes>"
            ]
          },
          "metadata": {},
          "output_type": "display_data"
        }
      ],
      "source": [
        "# Calculating the missing values for target 0\n",
        "missing_target_0 = (train_df[train_df['target'] == 0].isnull().sum() / len(train_df[train_df['target'] == 0]))\n",
        "location_missing_0 = missing_target_0['location']\n",
        "keyword_missing_0 = missing_target_0['keyword']\n",
        "\n",
        "# Calculating the missing values for target 1\n",
        "missing_target_1 = (train_df[train_df['target'] == 1].isnull().sum() / len(train_df[train_df['target'] == 1]))\n",
        "location_missing_1 = missing_target_1['location']\n",
        "keyword_missing_1 = missing_target_1['keyword']\n",
        "\n",
        "missing_values = {\n",
        "    'location': [location_missing_0, location_missing_1],\n",
        "    'keyword': [keyword_missing_0, keyword_missing_1]\n",
        "}\n",
        "\n",
        "# Labels for the x-axis\n",
        "categories = list(missing_values.keys())\n",
        "\n",
        "# Values for each target class\n",
        "target_0 = [missing_values[col][0] for col in categories]\n",
        "target_1 = [missing_values[col][1] for col in categories]\n",
        "\n",
        "# Bar width\n",
        "bar_width = 0.5\n",
        "x = np.arange(len(categories))\n",
        "\n",
        "# Making the barplot\n",
        "plt.figure(figsize=(8, 6))\n",
        "plt.bar(x - bar_width / 2, target_0, bar_width, color='green', label='Target = 0')\n",
        "plt.bar(x + bar_width / 2, target_1, bar_width, color='red', label='Target = 1')\n",
        "\n",
        "# Labels and titles\n",
        "plt.xlabel('Columns')\n",
        "plt.ylabel('Percentage of missing values (%)')\n",
        "plt.title('Percentage of missing values by target class')\n",
        "plt.xticks(x, categories) # Setting the x-axis labels\n",
        "plt.legend()\n",
        "plt.grid(axis='y', linestyle='-', alpha=0.5)\n",
        "\n",
        "# Showing the plot\n",
        "plt.show()"
      ]
    },
    {
      "cell_type": "code",
      "execution_count": null,
      "metadata": {
        "colab": {
          "base_uri": "https://localhost:8080/",
          "height": 544
        },
        "execution": {
          "iopub.execute_input": "2025-02-19T18:23:11.960973Z",
          "iopub.status.busy": "2025-02-19T18:23:11.960466Z",
          "iopub.status.idle": "2025-02-19T18:23:12.08723Z",
          "shell.execute_reply": "2025-02-19T18:23:12.085727Z",
          "shell.execute_reply.started": "2025-02-19T18:23:11.960937Z"
        },
        "id": "tHW5IUJ9garK",
        "outputId": "eb8b3d08-7c65-4b57-adf9-75f2cfe84f68",
        "trusted": true
      },
      "outputs": [
        {
          "data": {
            "image/png": "[encoded data removed]",
            "text/plain": [
              "<Figure size 800x600 with 1 Axes>"
            ]
          },
          "metadata": {},
          "output_type": "display_data"
        }
      ],
      "source": [
        "# Target Distribution Pie Chart\n",
        "plt.figure(figsize=(8, 6))\n",
        "train_df['target'].value_counts().plot.pie(\n",
        "    autopct=lambda p: f'{p:.1f}%\\n({int(p/100*len(train_df))})',\n",
        "    labels=['0 - Non-Disaster', '1 - Disaster'],\n",
        "    colors=['green', 'red'],\n",
        "    startangle=90,\n",
        "    wedgeprops={'linewidth': 1, 'edgecolor': 'white'}\n",
        ")\n",
        "plt.title('Percentages of the Training Tweets\\n', fontsize=14)\n",
        "plt.ylabel('')\n",
        "plt.show()"
      ]
    },
    {
      "cell_type": "markdown",
      "metadata": {
        "id": "laZ0gYw6garL"
      },
      "source": [
        "# **Dropping Unnecessary Columns**"
      ]
    },
    {
      "cell_type": "code",
      "execution_count": null,
      "metadata": {
        "execution": {
          "iopub.execute_input": "2025-02-19T17:08:18.524803Z",
          "iopub.status.busy": "2025-02-19T17:08:18.524384Z",
          "iopub.status.idle": "2025-02-19T17:08:18.532248Z",
          "shell.execute_reply": "2025-02-19T17:08:18.531048Z",
          "shell.execute_reply.started": "2025-02-19T17:08:18.524767Z"
        },
        "id": "AI7y-eobgarL",
        "trusted": true
      },
      "outputs": [],
      "source": [
        "train_df.drop(columns=['id', 'location'], inplace=True, axis=1)\n",
        "test_df.drop(columns=['location'], inplace=True)"
      ]
    },
    {
      "cell_type": "markdown",
      "metadata": {
        "id": "p4EFgkmogarL"
      },
      "source": [
        "# **Handling Missing Values**"
      ]
    },
    {
      "cell_type": "code",
      "execution_count": null,
      "metadata": {
        "execution": {
          "iopub.execute_input": "2025-02-19T17:08:18.533624Z",
          "iopub.status.busy": "2025-02-19T17:08:18.533254Z",
          "iopub.status.idle": "2025-02-19T17:08:18.557826Z",
          "shell.execute_reply": "2025-02-19T17:08:18.556537Z",
          "shell.execute_reply.started": "2025-02-19T17:08:18.533596Z"
        },
        "id": "jrcHmE3FgarL",
        "trusted": true
      },
      "outputs": [],
      "source": [
        "train_df.dropna(inplace=True)\n",
        "test_df.fillna({'keyword': ''}, inplace=True)"
      ]
    },
    {
      "cell_type": "code",
      "execution_count": null,
      "metadata": {
        "colab": {
          "base_uri": "https://localhost:8080/"
        },
        "execution": {
          "iopub.execute_input": "2025-02-19T17:08:18.559471Z",
          "iopub.status.busy": "2025-02-19T17:08:18.55904Z",
          "iopub.status.idle": "2025-02-19T17:08:18.582083Z",
          "shell.execute_reply": "2025-02-19T17:08:18.580695Z",
          "shell.execute_reply.started": "2025-02-19T17:08:18.559431Z"
        },
        "id": "yVNUtj05garL",
        "outputId": "5a0ac33a-c01f-40b0-ffed-1eea6a649430",
        "trusted": true
      },
      "outputs": [
        {
          "name": "stdout",
          "output_type": "stream",
          "text": [
            "Checking null values:\n",
            "keyword    0\n",
            "text       0\n",
            "target     0\n",
            "dtype: int64\n",
            "\n",
            "Rows and Columns:\n",
            "(7552, 3)\n",
            "\n",
            "Checking null values:\n",
            "id         0\n",
            "keyword    0\n",
            "text       0\n",
            "dtype: int64\n",
            "\n",
            "Rows and Columns:\n",
            "(3263, 3)\n"
          ]
        }
      ],
      "source": [
        "print(\"Checking null values:\")\n",
        "print(train_df.isna().sum())\n",
        "\n",
        "print(\"\\nRows and Columns:\")\n",
        "print(train_df.shape)\n",
        "\n",
        "print(\"\\nChecking null values:\")\n",
        "print(test_df.isna().sum())\n",
        "\n",
        "print(\"\\nRows and Columns:\")\n",
        "print(test_df.shape)"
      ]
    },
    {
      "cell_type": "code",
      "execution_count": null,
      "metadata": {
        "colab": {
          "base_uri": "https://localhost:8080/"
        },
        "execution": {
          "iopub.execute_input": "2025-02-19T17:08:18.583464Z",
          "iopub.status.busy": "2025-02-19T17:08:18.583103Z",
          "iopub.status.idle": "2025-02-19T17:08:18.609669Z",
          "shell.execute_reply": "2025-02-19T17:08:18.60849Z",
          "shell.execute_reply.started": "2025-02-19T17:08:18.583393Z"
        },
        "id": "DaS7ANVTgarL",
        "outputId": "5b28eb4f-2469-4d89-b74d-accbccae41f7",
        "trusted": true
      },
      "outputs": [
        {
          "name": "stdout",
          "output_type": "stream",
          "text": [
            "<class 'pandas.core.frame.DataFrame'>\n",
            "Index: 7552 entries, 31 to 7582\n",
            "Data columns (total 3 columns):\n",
            " #   Column   Non-Null Count  Dtype \n",
            "---  ------   --------------  ----- \n",
            " 0   keyword  7552 non-null   object\n",
            " 1   text     7552 non-null   object\n",
            " 2   target   7552 non-null   int64 \n",
            "dtypes: int64(1), object(2)\n",
            "memory usage: 236.0+ KB\n"
          ]
        }
      ],
      "source": [
        "train_df.info()"
      ]
    },
    {
      "cell_type": "code",
      "execution_count": null,
      "metadata": {
        "colab": {
          "base_uri": "https://localhost:8080/"
        },
        "execution": {
          "iopub.execute_input": "2025-02-19T18:24:51.400577Z",
          "iopub.status.busy": "2025-02-19T18:24:51.400169Z",
          "iopub.status.idle": "2025-02-19T18:24:51.416173Z",
          "shell.execute_reply": "2025-02-19T18:24:51.414711Z",
          "shell.execute_reply.started": "2025-02-19T18:24:51.400548Z"
        },
        "id": "5_Vc4VUQgarM",
        "outputId": "55df7273-cbf8-410f-aab8-16cf2035ec9a",
        "trusted": true
      },
      "outputs": [
        {
          "name": "stdout",
          "output_type": "stream",
          "text": [
            "<class 'pandas.core.frame.DataFrame'>\n",
            "RangeIndex: 3263 entries, 0 to 3262\n",
            "Data columns (total 3 columns):\n",
            " #   Column   Non-Null Count  Dtype \n",
            "---  ------   --------------  ----- \n",
            " 0   id       3263 non-null   int64 \n",
            " 1   keyword  3263 non-null   object\n",
            " 2   text     3263 non-null   object\n",
            "dtypes: int64(1), object(2)\n",
            "memory usage: 76.6+ KB\n"
          ]
        }
      ],
      "source": [
        "test_df.info()"
      ]
    },
    {
      "cell_type": "markdown",
      "metadata": {
        "id": "t1xsf7ARgarM"
      },
      "source": [
        "# **Splitting the training data**"
      ]
    },
    {
      "cell_type": "code",
      "execution_count": null,
      "metadata": {
        "id": "YpPT_U1AgarM",
        "trusted": true
      },
      "outputs": [],
      "source": [
        "from sklearn.model_selection import train_test_split\n",
        "\n",
        "X = train_df['text'].values\n",
        "y = train_df['target'].values\n",
        "\n",
        "# Splitting the data into training and evaluation sets (70/30 split)\n",
        "X_train, X_eval, y_train, y_eval = train_test_split(X, y, test_size=0.3)"
      ]
    },
    {
      "cell_type": "markdown",
      "metadata": {
        "id": "06ccHPLIgarM"
      },
      "source": [
        "# **Preprocessing the data**"
      ]
    },
    {
      "cell_type": "code",
      "execution_count": null,
      "metadata": {
        "execution": {
          "iopub.execute_input": "2025-02-19T18:34:49.74077Z",
          "iopub.status.busy": "2025-02-19T18:34:49.740346Z",
          "iopub.status.idle": "2025-02-19T18:34:49.747191Z",
          "shell.execute_reply": "2025-02-19T18:34:49.745951Z",
          "shell.execute_reply.started": "2025-02-19T18:34:49.740742Z"
        },
        "id": "ZU5scMg7garM",
        "trusted": true
      },
      "outputs": [],
      "source": [
        "def text_preprocessing(text):\n",
        "    # Converting the text to lower case and removing any whitespace.\n",
        "    text = text.lower().strip()\n",
        "\n",
        "    # Removing Urls.\n",
        "    text = re.sub(r'http\\S+|www\\.\\S+', '', text)\n",
        "\n",
        "    # Removing Twitter handles and hashtags.\n",
        "    text = re.sub(r'[@#]\\w+', '', text)\n",
        "\n",
        "    # Removing any remaining punctuation.\n",
        "    text = re.sub(r'[^\\w\\s]', '', text)\n",
        "\n",
        "    # Splitting the text into words.\n",
        "    words = text.split()\n",
        "\n",
        "    # Lemmatizing the words using nltk.stem WordNetLemmatizer.\n",
        "    lemmatizer = WordNetLemmatizer()\n",
        "    words = [lemmatizer.lemmatize(word) for word in words]\n",
        "\n",
        "    # Removing the stop words.\n",
        "    stop_words = set(stopwords.words('english'))\n",
        "    words = [word for word in words if word not in stop_words]\n",
        "\n",
        "    # Join the words back into a sentence.\n",
        "    return ' '.join(words)"
      ]
    },
    {
      "cell_type": "code",
      "execution_count": null,
      "metadata": {
        "colab": {
          "base_uri": "https://localhost:8080/"
        },
        "execution": {
          "iopub.execute_input": "2025-02-19T18:35:28.585857Z",
          "iopub.status.busy": "2025-02-19T18:35:28.585397Z",
          "iopub.status.idle": "2025-02-19T18:35:28.595039Z",
          "shell.execute_reply": "2025-02-19T18:35:28.593539Z",
          "shell.execute_reply.started": "2025-02-19T18:35:28.585827Z"
        },
        "id": "5otZhCfqgarM",
        "outputId": "b92d63a7-1038-4590-d79c-26c467948a8d",
        "trusted": true
      },
      "outputs": [
        {
          "name": "stdout",
          "output_type": "stream",
          "text": [
            "Before Preprocessing: \n",
            "On plus side LOOK AT THE SKY LAST NIGHT IT WAS ABLAZE http://t.co/qqsmshaJ3N\n",
            "After Preprocessing: \n",
            "plus side look sky last night wa ablaze\n"
          ]
        }
      ],
      "source": [
        "# Testing the text_preprocessing function\n",
        "print(\"Before Preprocessing: \")\n",
        "print(train_df['text'].iloc[4])\n",
        "\n",
        "print(\"After Preprocessing: \")\n",
        "processed_text = text_preprocessing(train_df['text'].iloc[4])\n",
        "print(processed_text)"
      ]
    },
    {
      "cell_type": "code",
      "execution_count": null,
      "metadata": {
        "execution": {
          "iopub.execute_input": "2025-02-19T18:36:27.406556Z",
          "iopub.status.busy": "2025-02-19T18:36:27.406142Z",
          "iopub.status.idle": "2025-02-19T18:36:31.766086Z",
          "shell.execute_reply": "2025-02-19T18:36:31.76456Z",
          "shell.execute_reply.started": "2025-02-19T18:36:27.406527Z"
        },
        "id": "rn58L8GagarM",
        "trusted": true
      },
      "outputs": [],
      "source": [
        "X_train = np.array([text_preprocessing(text) for text in X_train])\n",
        "X_eval = np.array([text_preprocessing(text) for text in X_eval])"
      ]
    },
    {
      "cell_type": "markdown",
      "metadata": {
        "id": "MC5sgE9EgarN"
      },
      "source": [
        "# **Bag of Words Model**"
      ]
    },
    {
      "cell_type": "code",
      "execution_count": null,
      "metadata": {
        "colab": {
          "base_uri": "https://localhost:8080/"
        },
        "id": "gLi9sVScgarN",
        "outputId": "c23b4555-57cf-45f1-d3ca-9572a6dd2861",
        "trusted": true
      },
      "outputs": [
        {
          "data": {
            "text/plain": [
              "(5286, 681)"
            ]
          },
          "execution_count": 438,
          "metadata": {},
          "output_type": "execute_result"
        }
      ],
      "source": [
        "M = 15 # Only include words that appear in at least 15 different tweets.\n",
        "count_vect = CountVectorizer(binary=True, min_df = M)\n",
        "X_train = count_vect.fit_transform(X_train)\n",
        "X_train.shape"
      ]
    },
    {
      "cell_type": "code",
      "execution_count": null,
      "metadata": {
        "colab": {
          "base_uri": "https://localhost:8080/"
        },
        "id": "9lpBC7uxoO_U",
        "outputId": "ee943626-d549-4d04-acf0-09a09de0bf94"
      },
      "outputs": [
        {
          "data": {
            "text/plain": [
              "(2266, 681)"
            ]
          },
          "execution_count": 439,
          "metadata": {},
          "output_type": "execute_result"
        }
      ],
      "source": [
        "# Do the same for the development set.\n",
        "count_vect_test = CountVectorizer(binary=True, min_df = M)\n",
        "X_eval = count_vect.transform(X_eval)\n",
        "X_eval.shape"
      ]
    },
    {
      "cell_type": "markdown",
      "metadata": {
        "id": "M3gVCQYx7cg1"
      },
      "source": [
        "# **Logistic Regression Models**"
      ]
    },
    {
      "cell_type": "code",
      "execution_count": null,
      "metadata": {
        "colab": {
          "base_uri": "https://localhost:8080/"
        },
        "id": "SivAG8657h8d",
        "outputId": "f7b71ea4-7d04-4f5a-d970-21cf5b97b1d2"
      },
      "outputs": [
        {
          "name": "stdout",
          "output_type": "stream",
          "text": [
            "Training set F-1 scores\n",
            "Logistic Regression (No regularization) score:  0.7958897711349836\n",
            "Logistic Regression (L1 regularization) score:  0.7798319327731092\n",
            "Logistic Regression (L2 regularization) score:  0.7875327147275756\n",
            "\n",
            "Development set F-1 scores\n",
            "Logistic Regression (No regularization) score:  0.7120304844855743\n",
            "Logistic Regression (L1 regularization) score:  0.7086882453151618\n",
            "Logistic Regression (L2 regularization) score:  0.7217877094972067\n"
          ]
        }
      ],
      "source": [
        "from sklearn.metrics import f1_score\n",
        "\n",
        "# Training a Logistic Regression model without regularization terms.\n",
        "logreg = LogisticRegression(penalty=None)\n",
        "logreg.fit(X_train, y_train)\n",
        "\n",
        "# Training a Logistic Regression model with L1 regularization.\n",
        "logregL1 = LogisticRegression(penalty='l1', solver='liblinear')\n",
        "logregL1.fit(X_train, y_train)\n",
        "\n",
        "# Training a Logistic Regression model with L2 regularization (deafult).\n",
        "logregL2 = LogisticRegression()\n",
        "logregL2.fit(X_train, y_train)\n",
        "\n",
        "# Predictions on the development set.\n",
        "y_pred = logreg.predict(X_eval)\n",
        "l1_y_pred = logregL1.predict(X_eval)\n",
        "l2_y_pred = logregL2.predict(X_eval)\n",
        "\n",
        "# Predictions on the training set.\n",
        "y_train_pred = logreg.predict(X_train)\n",
        "l1_y_train_pred = logregL1.predict(X_train)\n",
        "l2_y_train_pred = logregL2.predict(X_train)\n",
        "\n",
        "# Verifying the F1 score for the training set of the three models.\n",
        "print(\"Training set F-1 scores\")\n",
        "print(\"Logistic Regression (No regularization) score: \", f1_score(y_train, y_train_pred))\n",
        "print(\"Logistic Regression (L1 regularization) score: \", f1_score(y_train, l1_y_train_pred))\n",
        "print(\"Logistic Regression (L2 regularization) score: \", f1_score(y_train, l2_y_train_pred))\n",
        "\n",
        "# Verifying the F1 score for the development set of the three models.\n",
        "print(\"\\nDevelopment set F-1 scores\")\n",
        "print(\"Logistic Regression (No regularization) score: \", f1_score(y_eval, y_pred))\n",
        "print(\"Logistic Regression (L1 regularization) score: \", f1_score(y_eval, l1_y_pred))\n",
        "print(\"Logistic Regression (L2 regularization) score: \", f1_score(y_eval, l2_y_pred))"
      ]
    },
    {
      "cell_type": "code",
      "execution_count": null,
      "metadata": {
        "colab": {
          "base_uri": "https://localhost:8080/"
        },
        "id": "5R2SWKMty9KE",
        "outputId": "a2dd9e08-c939-43d0-b0ab-bbc25c90ff79"
      },
      "outputs": [
        {
          "name": "stdout",
          "output_type": "stream",
          "text": [
            "[[-4.12133092e-01  0.00000000e+00  0.00000000e+00 -5.58036856e-01\n",
            "   0.00000000e+00  0.00000000e+00  6.51703409e-01  1.28221788e+00\n",
            "   0.00000000e+00  0.00000000e+00  1.07066387e+00  4.15664379e-01\n",
            "   7.85518025e-01  1.16512390e-01  2.59268652e-03  0.00000000e+00\n",
            "   1.57994543e-01  2.08304379e-02  9.51377154e-01  2.02766543e+00\n",
            "   0.00000000e+00  6.11883555e-02  0.00000000e+00 -5.90693131e-01\n",
            "  -4.05318251e-01  0.00000000e+00 -3.81673802e-01  1.24850548e+00\n",
            "   6.52696039e-01 -3.46868705e-02  0.00000000e+00  0.00000000e+00\n",
            "   2.13045712e-01  4.99466189e-01  0.00000000e+00  8.64933380e-01\n",
            "   0.00000000e+00 -1.22630784e+00  6.03541740e-01 -1.16938139e+00\n",
            "   4.89293089e-02 -3.97347705e-01  3.02670404e-01  1.66928971e+00\n",
            "   8.62997136e-01  0.00000000e+00  1.39961946e+00 -2.21198199e-01\n",
            "  -6.55097238e-01  0.00000000e+00  0.00000000e+00  0.00000000e+00\n",
            "   0.00000000e+00 -2.48093097e+00 -3.23310141e-01 -6.72210185e-01\n",
            "   0.00000000e+00  0.00000000e+00 -6.31659651e-01  0.00000000e+00\n",
            "   0.00000000e+00 -5.86508158e-01  0.00000000e+00 -3.83106202e-01\n",
            "  -1.75152657e+00  0.00000000e+00  0.00000000e+00  1.28995840e+00\n",
            "   8.86943792e-01 -5.94285969e-01  0.00000000e+00 -1.36619378e+00\n",
            "   0.00000000e+00 -1.58799331e+00 -3.80507616e-01  0.00000000e+00\n",
            "  -9.87284199e-01  0.00000000e+00  4.05004064e-01  0.00000000e+00\n",
            "   8.36400815e-01 -1.89374144e-01  2.66543436e+00  2.83170697e+00\n",
            "  -1.11722101e+00  3.49874513e-01  0.00000000e+00  1.11889985e+00\n",
            "  -1.07567377e+00  1.31696419e+00 -9.97288304e-02  4.64260161e-01\n",
            "   1.81182947e+00  2.29886651e-01  0.00000000e+00  1.01589495e+00\n",
            "   1.65058565e+00  5.93656510e-01  6.95644854e-02  0.00000000e+00\n",
            "  -4.54471318e-01  1.10779311e+00  0.00000000e+00  1.86071372e+00\n",
            "   1.64424337e+00 -1.21395053e-01  1.13545134e+00 -1.90666709e-01\n",
            "   0.00000000e+00  4.02339428e-01 -7.09895963e-01  8.44056967e-02\n",
            "  -5.32339055e-01  0.00000000e+00 -1.61197132e-02  0.00000000e+00\n",
            "   9.60513347e-01 -1.59208964e-01  3.50929433e-01  9.85832409e-01\n",
            "   4.89633178e-01 -3.99904051e-01  1.77776189e-01  1.23231144e+00\n",
            "   0.00000000e+00  4.42136548e-02  0.00000000e+00  0.00000000e+00\n",
            "   8.11392556e-01 -4.97261445e-01  2.12526350e-01  0.00000000e+00\n",
            "   0.00000000e+00  3.90101793e-01  1.14038598e+00  5.43446442e-01\n",
            "   0.00000000e+00  8.90373672e-01  4.05553308e-01  4.91795449e-01\n",
            "   2.24373871e+00  1.91973326e+00  0.00000000e+00 -1.57473456e-01\n",
            "  -6.51063254e-01 -8.18172984e-01  1.13030194e+00  4.08689454e-02\n",
            "   1.07115206e+00  7.35779419e-01  0.00000000e+00 -2.07318096e-02\n",
            "  -1.73302243e-01  6.41575423e-01  0.00000000e+00  8.70695533e-01\n",
            "   2.69692768e+00 -2.37619906e-02  3.80242486e-01 -7.07119243e-01\n",
            "  -6.77469918e-02 -7.96436454e-03  0.00000000e+00  1.44737680e+00\n",
            "   3.02903191e+00 -1.23196920e-01  0.00000000e+00  0.00000000e+00\n",
            "  -1.60086920e-01  0.00000000e+00  0.00000000e+00  0.00000000e+00\n",
            "   0.00000000e+00  1.39186098e+00 -2.75945928e-01 -3.66072012e-02\n",
            "   6.42698498e-01  1.37799447e+00  4.77887001e-01  0.00000000e+00\n",
            "   1.70625894e-01  1.13523162e-01  3.34948885e-01  0.00000000e+00\n",
            "   2.33682514e+00 -8.93791077e-01 -2.06179415e-01  3.11073690e-03\n",
            "   7.51260827e-01  4.84716945e-01  2.40037637e+00  1.36226619e+00\n",
            "  -2.18716638e+00  1.65983323e-01 -1.13460976e+00  3.13677019e-01\n",
            "   5.30934092e-01  0.00000000e+00  1.04735632e-01  9.89128593e-01\n",
            "   1.64852306e+00  1.37023636e+00  3.61853967e-01 -6.01505702e-01\n",
            "  -4.91801727e-02  0.00000000e+00 -1.20528342e+00  2.99692933e-01\n",
            "   1.67777179e+00 -1.99473604e-01  0.00000000e+00  0.00000000e+00\n",
            "   1.40266571e-01 -1.23341879e-01  5.00433689e-01  2.82712210e-01\n",
            "  -6.08006024e-01  0.00000000e+00  4.98674478e-01  2.19262567e-01\n",
            "  -6.26475985e-01  0.00000000e+00  0.00000000e+00 -2.98421493e-01\n",
            "  -2.14887210e-01  0.00000000e+00  0.00000000e+00  1.55079793e+00\n",
            "   7.19322009e-01  4.97987480e-01  4.11773567e-01 -2.90086711e-01\n",
            "   1.74751988e+00  1.52055308e+00  0.00000000e+00  7.48000990e-01\n",
            "   6.16583055e-01 -3.90825032e-01 -7.50178075e-01 -1.66419319e-01\n",
            "  -3.63162679e-01 -1.00457954e+00 -3.01304920e-01 -9.04403987e-01\n",
            "   0.00000000e+00 -5.02034058e-01  0.00000000e+00  1.18401657e+00\n",
            "  -3.10742756e-02 -5.16653768e-02 -1.09737729e+00  0.00000000e+00\n",
            "   0.00000000e+00 -6.24467307e-01 -6.10259451e-01  3.01931886e-01\n",
            "  -1.30663275e-01  0.00000000e+00  0.00000000e+00  7.18679977e-02\n",
            "   4.68931392e-01 -2.75504405e-01 -2.90359817e-01  6.83444413e-01\n",
            "   1.56605131e-01  0.00000000e+00 -5.62069173e-01 -1.79842986e-01\n",
            "   5.49168609e-01 -2.11467408e-01  6.66099055e-01  0.00000000e+00\n",
            "  -7.43052793e-01  0.00000000e+00  5.85223583e-01  1.13200861e+00\n",
            "   0.00000000e+00  0.00000000e+00 -2.26641605e-02  0.00000000e+00\n",
            "   0.00000000e+00  3.85025445e-01  0.00000000e+00  1.01519997e+00\n",
            "   2.54176177e+00  1.29538958e-01  2.60881801e-01  6.90346540e-01\n",
            "   0.00000000e+00  2.23475849e+00  4.09875847e-01  1.28782737e+00\n",
            "  -9.00283030e-01 -3.74388901e-02  3.17177413e-01  3.46705507e-01\n",
            "   0.00000000e+00  0.00000000e+00  1.08665592e+00  0.00000000e+00\n",
            "   0.00000000e+00  0.00000000e+00 -7.68825395e-01  1.93896943e+00\n",
            "   0.00000000e+00  0.00000000e+00  0.00000000e+00 -2.77076034e-02\n",
            "   2.10240348e+00  1.19204959e-01  2.67463670e-01  3.16381014e+00\n",
            "   1.09155021e-01 -6.71019126e-01  1.76935550e+00 -6.77442210e-02\n",
            "  -3.31173803e-01 -2.08468621e-02  8.22860021e-01  2.24231690e+00\n",
            "   5.94911856e-02 -2.70102662e-01  0.00000000e+00  7.31897663e-01\n",
            "  -5.37706255e-03  5.58289737e-01  9.35428489e-01 -1.47707714e-01\n",
            "   6.71593911e-01 -2.11414637e-01  0.00000000e+00  0.00000000e+00\n",
            "   0.00000000e+00  0.00000000e+00  0.00000000e+00  2.33590271e+00\n",
            "  -7.40494085e-01  0.00000000e+00 -8.44158570e-03 -1.48985317e-01\n",
            "   5.67479229e-01 -2.34078976e-01 -1.00467131e+00  0.00000000e+00\n",
            "  -4.13366148e-01  4.13918375e-02 -2.39134473e-01  0.00000000e+00\n",
            "  -7.81990943e-01 -9.78907988e-01 -8.45893819e-01  2.49146135e-01\n",
            "   0.00000000e+00  4.69591098e-01 -4.38708086e-01  1.79442671e-01\n",
            "  -1.37061055e+00  0.00000000e+00  0.00000000e+00  5.04154387e-01\n",
            "  -3.36204211e-01 -7.44793970e-01  0.00000000e+00  0.00000000e+00\n",
            "  -4.99242173e-01  1.33267661e-01 -4.72124000e-01  1.35505618e+00\n",
            "   2.20284849e+00  5.11285119e-01  3.93245144e-02  2.72187968e-01\n",
            "   0.00000000e+00  5.19684422e-01 -5.77201737e-02  1.66057071e+00\n",
            "   3.86059563e+00  6.71179823e-02  9.08644019e-01  5.10071842e-01\n",
            "   0.00000000e+00  1.33740027e+00  2.69125000e-01  0.00000000e+00\n",
            "   2.93417032e-01  0.00000000e+00  0.00000000e+00  0.00000000e+00\n",
            "   3.96649543e-01 -3.57926262e-01  2.48755916e-01  1.22848449e+00\n",
            "   7.50579072e-01 -8.95419468e-01  4.55077025e-01  1.23031714e-01\n",
            "   0.00000000e+00  1.66318140e+00  0.00000000e+00 -2.39761227e-01\n",
            "  -5.24246861e-01 -8.91761083e-01  3.73352714e-01  0.00000000e+00\n",
            "  -1.12817560e+00  0.00000000e+00  3.53706695e-01  1.81659784e+00\n",
            "   0.00000000e+00  1.17602889e+00  2.21879737e-01 -1.09587460e+00\n",
            "   0.00000000e+00 -5.61324483e-01  0.00000000e+00  0.00000000e+00\n",
            "   5.31392453e-02 -1.56730426e-01  5.77045425e-01  0.00000000e+00\n",
            "  -7.99836533e-01  0.00000000e+00 -3.33154592e-01 -1.19674621e+00\n",
            "   0.00000000e+00  1.48149794e-01  1.93114341e+00  0.00000000e+00\n",
            "  -3.29987625e-01 -3.29300008e-01  0.00000000e+00  3.16164744e-01\n",
            "   0.00000000e+00  4.04554573e-01  2.86610075e-01  0.00000000e+00\n",
            "  -1.47709380e+00  0.00000000e+00 -6.74981703e-01  0.00000000e+00\n",
            "   0.00000000e+00  0.00000000e+00  0.00000000e+00  1.42216129e+00\n",
            "  -1.44806133e+00 -3.08293831e-01  1.01916335e+00  1.17689941e+00\n",
            "   9.11148317e-01 -9.43209939e-01  8.90441155e-01  4.49038937e-01\n",
            "   0.00000000e+00  8.23779272e-01  0.00000000e+00 -8.17023191e-01\n",
            "   1.10718081e+00 -5.98705578e-01  0.00000000e+00  0.00000000e+00\n",
            "  -2.77158351e-01  1.57008367e-01  2.33795504e-01  0.00000000e+00\n",
            "   0.00000000e+00  0.00000000e+00 -5.13277857e-01 -4.89119219e-02\n",
            "   0.00000000e+00  0.00000000e+00 -5.53625129e-01  0.00000000e+00\n",
            "   1.85557173e+00  0.00000000e+00  0.00000000e+00  0.00000000e+00\n",
            "   0.00000000e+00  1.41255692e+00  4.68396355e-02  5.54014161e-01\n",
            "   0.00000000e+00  7.71064763e-04  0.00000000e+00 -3.75413074e-01\n",
            "   0.00000000e+00  5.91610529e-01  1.64543694e+00  1.26752518e-01\n",
            "  -1.04225988e-01 -4.51343765e-02  0.00000000e+00 -1.04471942e-01\n",
            "  -1.18173895e-01  0.00000000e+00 -1.16401292e+00 -1.45422563e-01\n",
            "   0.00000000e+00  3.20873088e-01  7.05492654e-01  0.00000000e+00\n",
            "   0.00000000e+00  0.00000000e+00  3.59253942e-01  4.17307552e-02\n",
            "   0.00000000e+00 -3.36292829e-01 -2.14201423e-01 -6.12511145e-01\n",
            "   4.01706266e-01  2.23075370e-01  0.00000000e+00  0.00000000e+00\n",
            "  -4.95245726e-01 -1.42714747e-01 -3.27545765e-02  6.87302192e-01\n",
            "  -5.61709535e-01  1.05515863e-01 -3.12369259e-01  7.42847615e-01\n",
            "   1.82636970e+00  0.00000000e+00  0.00000000e+00  0.00000000e+00\n",
            "   1.60772853e+00  1.39052326e+00  1.00928387e+00 -5.80069290e-01\n",
            "  -2.82894332e-01  2.80508316e-01  2.79695468e-01  1.76242888e+00\n",
            "   0.00000000e+00  4.15494187e-02 -1.04204126e-01 -2.34853886e-01\n",
            "   5.55453854e-01  0.00000000e+00  0.00000000e+00 -8.32885217e-01\n",
            "   0.00000000e+00 -3.21624120e-01  1.36185131e+00  1.82032015e+00\n",
            "   2.60716741e-01  0.00000000e+00  0.00000000e+00 -1.45771239e+00\n",
            "   9.81761510e-02 -9.61228150e-02 -2.67378122e-01 -3.74095683e-02\n",
            "  -7.23270370e-03  1.36639997e+00  0.00000000e+00  6.09919477e-01\n",
            "   0.00000000e+00  0.00000000e+00  0.00000000e+00  0.00000000e+00\n",
            "   6.26558538e-01 -2.59399661e-01 -1.41590547e-01  0.00000000e+00\n",
            "  -1.24298094e+00 -7.89713548e-02  0.00000000e+00  1.45695394e+00\n",
            "   5.93344437e-01  0.00000000e+00  0.00000000e+00  4.06758228e-01\n",
            "   0.00000000e+00 -5.57509248e-01  0.00000000e+00  8.60846139e-01\n",
            "   1.02404523e+00 -5.07465304e-01 -9.21839778e-02  1.65109140e-01\n",
            "   3.29862827e-01 -6.61391408e-01  8.68212613e-02 -8.24058067e-03\n",
            "   0.00000000e+00  5.16452659e-01  5.85508450e-01  1.31817868e+00\n",
            "   0.00000000e+00 -2.98339798e-01  2.11605375e-01  1.44416288e-01\n",
            "   1.95685866e-01 -4.32667228e-01  1.72933203e+00  0.00000000e+00\n",
            "   0.00000000e+00  1.87741982e-01  9.52138561e-01  1.72068762e+00\n",
            "   0.00000000e+00  0.00000000e+00  5.06468748e-01 -2.83614038e-01\n",
            "   2.19189276e-01  0.00000000e+00 -5.20262562e-02  0.00000000e+00\n",
            "   0.00000000e+00 -1.64047838e+00  5.42930678e-02  1.25556241e+00\n",
            "   0.00000000e+00  0.00000000e+00 -4.47745305e-01 -1.35161617e-01\n",
            "   0.00000000e+00  4.02495039e+00 -4.50640201e-01  1.08997521e+00\n",
            "  -6.21051703e-02 -1.00055773e-01 -4.85243657e-02  5.66318126e-01\n",
            "   1.40329034e-01  1.90407130e+00 -6.26172954e-01  0.00000000e+00\n",
            "   1.30596974e+00  8.58536398e-01  1.71270433e+00 -7.36339163e-02\n",
            "  -5.00472114e-02  0.00000000e+00  0.00000000e+00 -5.44949024e-01\n",
            "   2.54248254e-01  2.30077607e+00  7.38500322e-01  1.67018711e-01\n",
            "   1.01839011e+00  4.46068434e-01  0.00000000e+00  3.08204482e-01\n",
            "   1.14011820e+00  0.00000000e+00  0.00000000e+00 -2.61543180e-02\n",
            "   1.09511213e+00 -1.58636152e+00  3.41430205e-01 -4.00215515e-02\n",
            "   0.00000000e+00  7.47063337e-01  1.95412376e+00  0.00000000e+00\n",
            "   1.13994661e+00  4.32636401e-01 -5.29071791e-01  3.03639278e-01\n",
            "   0.00000000e+00  0.00000000e+00 -1.34998093e+00 -6.10323788e-01\n",
            "   0.00000000e+00 -6.23171722e-01  1.89702351e-01  0.00000000e+00\n",
            "   0.00000000e+00  8.64558330e-01 -4.78137427e-01 -2.13717160e-01\n",
            "   5.91989245e-02  1.51427303e-01  0.00000000e+00 -1.29560747e+00\n",
            "  -3.39120767e-01 -2.87260062e-01  1.39307443e-01  0.00000000e+00\n",
            "  -1.58121841e-01]]\n"
          ]
        }
      ],
      "source": [
        "# Printing the weight vectors of the trained model\n",
        "coefs = logregL1.coef_\n",
        "print(coefs)"
      ]
    },
    {
      "cell_type": "code",
      "execution_count": null,
      "metadata": {
        "colab": {
          "base_uri": "https://localhost:8080/"
        },
        "id": "x9x0XZn7zcE5",
        "outputId": "83dec49e-1eae-4169-987c-7249bef31c60"
      },
      "outputs": [
        {
          "name": "stdout",
          "output_type": "stream",
          "text": [
            "Top 20 most important words: \n",
            "             word  coefficient  abs_coefficient\n",
            "617       typhoon     4.024950         4.024950\n",
            "376       migrant     3.860596         3.860596\n",
            "311       israeli     3.163810         3.163810\n",
            "164    derailment     3.029032         3.029032\n",
            "83        bombing     2.831707         2.831707\n",
            "156        debris     2.696928         2.696928\n",
            "82         bomber     2.665434         2.665434\n",
            "284     hiroshima     2.541762         2.541762\n",
            "53            bag    -2.480931         2.480931\n",
            "190    earthquake     2.400376         2.400376\n",
            "184       drought     2.336825         2.336825\n",
            "335   legionnaire     2.335903         2.335903\n",
            "637       warning     2.300776         2.300776\n",
            "140          crew     2.243739         2.243739\n",
            "319        killed     2.242317         2.242317\n",
            "289      horrible     2.234758         2.234758\n",
            "368      massacre     2.202848         2.202848\n",
            "192          ebay    -2.187166         2.187166\n",
            "308  investigator     2.102403         2.102403\n",
            "19        airport     2.027665         2.027665\n"
          ]
        }
      ],
      "source": [
        "coefs = coefs[0]\n",
        "feature_names = count_vect.get_feature_names_out()\n",
        "\n",
        "# Creating a Dataframe to inspect the importance of the words\n",
        "df_coefs = pd.DataFrame({\n",
        "    'word': feature_names,\n",
        "    'coefficient': coefs\n",
        "})\n",
        "\n",
        "# Compute the absolute coefficients to sort by importance.\n",
        "df_coefs['abs_coefficient'] = np.abs(df_coefs['coefficient'])\n",
        "df_coefs = df_coefs.sort_values(by='abs_coefficient', ascending=False)\n",
        "\n",
        "# Printing the 20 most important words for deciding whether a tweet is about a disaster or not.\n",
        "print(\"Top 20 most important words: \")\n",
        "print(df_coefs.head(20))"
      ]
    },
    {
      "cell_type": "code",
      "execution_count": null,
      "metadata": {
        "colab": {
          "base_uri": "https://localhost:8080/"
        },
        "id": "3rdkRAu2zdxa",
        "outputId": "1fd48f49-5a04-4ddf-f9fe-fc29a21dbe24"
      },
      "outputs": [
        {
          "name": "stdout",
          "output_type": "stream",
          "text": [
            "        Disaster             Non-Disaster            \n",
            "            word coefficient         word coefficient\n",
            "0        typhoon    4.024950          bag   -2.480931\n",
            "1        migrant    3.860596         ebay   -2.187166\n",
            "2        israeli    3.163810       better   -1.751527\n",
            "3     derailment    3.029032       trying   -1.640478\n",
            "4        bombing    2.831707         blew   -1.587993\n",
            "5         debris    2.696928        whats   -1.586362\n",
            "6         bomber    2.665434        phone   -1.477094\n",
            "7      hiroshima    2.541762        start   -1.457712\n",
            "8     earthquake    2.400376         play   -1.448061\n",
            "9        drought    2.336825         love   -1.370611\n",
            "10   legionnaire    2.335903      blazing   -1.366194\n",
            "11       warning    2.300776         word   -1.349981\n",
            "12          crew    2.243739          yet   -1.295607\n",
            "13        killed    2.242317         sure   -1.242981\n",
            "14      horrible    2.234758      appears   -1.226308\n",
            "15      massacre    2.202848      explode   -1.205283\n",
            "16  investigator    2.102403       online   -1.196746\n",
            "17       airport    2.027665   armageddon   -1.169381\n",
            "18      wildfire    1.954124         ruin   -1.164013\n",
            "19       injured    1.938969  electrocute   -1.134610\n"
          ]
        }
      ],
      "source": [
        "# Separating the words to see which contribute to each classification the most\n",
        "disaster_words = df_coefs[df_coefs['coefficient'] > 0].head(20).reset_index(drop=True)\n",
        "non_disaster_words = df_coefs[df_coefs['coefficient'] < 0].head(20).reset_index(drop=True)\n",
        "\n",
        "# Concatenating the two word lists and dropping the abs_coefficient columns\n",
        "side_by_side = pd.concat([\n",
        "    disaster_words.drop(columns=['abs_coefficient']),\n",
        "    non_disaster_words.drop(columns=['abs_coefficient'])\n",
        "], axis=1, keys=['Disaster', 'Non-Disaster'])\n",
        "\n",
        "# Printing the 20 most important words for each classification.\n",
        "print(side_by_side)"
      ]
    },
    {
      "cell_type": "markdown",
      "metadata": {
        "id": "qevmLSvZ5HwS"
      },
      "source": [
        "# **Bernoulli Naive Bayes Model**"
      ]
    },
    {
      "cell_type": "code",
      "execution_count": null,
      "metadata": {
        "id": "iyyZyiVx5HCs"
      },
      "outputs": [],
      "source": [
        "# Selecting the training values to split\n",
        "X = train_df['text'].values\n",
        "y = train_df['target'].values\n",
        "\n",
        "# Splitting the data into training and evaluation sets (70/30 split)\n",
        "X_train, X_eval, y_train, y_eval = train_test_split(X, y, test_size=0.3)\n",
        "\n",
        "M = 15 # Only include words that appear in at least 10 different tweets.\n",
        "\n",
        "# Vectorize the training set for the model\n",
        "count_vect = CountVectorizer(binary=True, min_df=M)\n",
        "X_train = count_vect.fit_transform(X_train).toarray()\n",
        "X_eval = count_vect.transform(X_eval).toarray()"
      ]
    },
    {
      "cell_type": "code",
      "execution_count": null,
      "metadata": {
        "colab": {
          "base_uri": "https://localhost:8080/"
        },
        "id": "TaXMWckAGOXv",
        "outputId": "1582384b-0a9e-4689-9336-fa9d65c958ea"
      },
      "outputs": [
        {
          "data": {
            "text/plain": [
              "(5286, 807)"
            ]
          },
          "execution_count": 544,
          "metadata": {},
          "output_type": "execute_result"
        }
      ],
      "source": [
        "X_train.shape"
      ]
    },
    {
      "cell_type": "code",
      "execution_count": null,
      "metadata": {
        "colab": {
          "base_uri": "https://localhost:8080/"
        },
        "id": "gDyww4xkGQS4",
        "outputId": "b7d2bfb4-e042-45c7-8eb4-3a1ed433e363"
      },
      "outputs": [
        {
          "data": {
            "text/plain": [
              "(2266, 807)"
            ]
          },
          "execution_count": 545,
          "metadata": {},
          "output_type": "execute_result"
        }
      ],
      "source": [
        "X_eval.shape"
      ]
    },
    {
      "cell_type": "code",
      "execution_count": null,
      "metadata": {
        "colab": {
          "base_uri": "https://localhost:8080/"
        },
        "id": "MrciBfrpAl7u",
        "outputId": "1d4e0453-e15e-4bca-a2fa-0d222cdc18f6"
      },
      "outputs": [
        {
          "name": "stdout",
          "output_type": "stream",
          "text": [
            "[0.57472569 0.42527431]\n"
          ]
        }
      ],
      "source": [
        "# Let's compute the maximum likelihood parameters of the training dataset.\n",
        "K = 2 # Number of clases.\n",
        "\n",
        "def compute_maxlikeparams(X, y):\n",
        "  n = X.shape[0] # Size of the dataset.\n",
        "  d = X.shape[1] # Number of features in the dataset.\n",
        "\n",
        "  # These are the shapes of the parameters.\n",
        "  psis = np.zeros([K, d])\n",
        "  phis = np.zeros([K])\n",
        "\n",
        "  # We now compute the parameters.\n",
        "  for k in range(K):\n",
        "    X_k = X[y == k]\n",
        "    # Using Laplace Smoothing: adding 1 to numerator and 2 to denominator.\n",
        "    psis[k] = (np.mean(X_k, axis=0) + 1) / (X_k.shape[0] + 2)\n",
        "    phis[k] = X_k.shape[0] / float(n)\n",
        "\n",
        "  return psis, phis\n",
        "\n",
        "psis, phis = compute_maxlikeparams(X_train, y_train)\n",
        "# Print out the class proportions.\n",
        "print(phis)"
      ]
    },
    {
      "cell_type": "code",
      "execution_count": null,
      "metadata": {
        "colab": {
          "base_uri": "https://localhost:8080/"
        },
        "id": "d7obrD69BhpP",
        "outputId": "5e27b746-e3b2-49c7-98f2-525bf78ad11e"
      },
      "outputs": [
        {
          "name": "stdout",
          "output_type": "stream",
          "text": [
            "[1 0 1 1 1 1 1 1 1 1 1 1 1 1 1 1 1 1 1 1]\n"
          ]
        }
      ],
      "source": [
        "# Now compute the predictions based on Bayes' rule.\n",
        "def naive_bayes_predict(x, psis, phis):\n",
        "  \"\"\"\n",
        "  Returns the class assignments and scores under the Naive Bayes model.\n",
        "\n",
        "  Computes argmax_y P(y|x) as argmax_y P(x|y)P(y).\n",
        "  \"\"\"\n",
        "  # Adjust the shapes.\n",
        "  n, d = x.shape\n",
        "  x = np.reshape(x, (1, n, d))\n",
        "  psis = np.reshape(psis, (K, 1, d))\n",
        "\n",
        "  psis = psis.clip(1e-14, 1 - 1e-14) # Clip the probabilities to avoid log(0).\n",
        "\n",
        "  # Compute log-probabilities.\n",
        "  logpy = np.log(phis).reshape([K, 1])\n",
        "  logpxy = x * np.log(psis) + (1 - x) * np.log(1 - psis)\n",
        "  logpyx = logpxy.sum(axis=2) + logpy\n",
        "\n",
        "  return logpyx.argmax(axis=0).flatten()\n",
        "\n",
        "y_pred = naive_bayes_predict(X_eval, psis, phis)\n",
        "print(y_pred[:20])"
      ]
    },
    {
      "cell_type": "code",
      "execution_count": null,
      "metadata": {
        "colab": {
          "base_uri": "https://localhost:8080/"
        },
        "id": "sRB6rddBHQsC",
        "outputId": "93a73bd5-5c3c-4192-cf2b-3a2c97394dcc"
      },
      "outputs": [
        {
          "name": "stdout",
          "output_type": "stream",
          "text": [
            "Bernoulli Naive Bayes F1-score:  0.6069651741293532\n"
          ]
        }
      ],
      "source": [
        "# Verifying the F1 score for the predictions of the model\n",
        "print(\"Bernoulli Naive Bayes F1-score: \", f1_score(y_eval, y_pred))"
      ]
    },
    {
      "cell_type": "markdown",
      "metadata": {
        "id": "vl-Qt9kqbd5p"
      },
      "source": [
        "# **N-gram Models**"
      ]
    },
    {
      "cell_type": "code",
      "execution_count": null,
      "metadata": {
        "id": "CQ2qhL52bNnV"
      },
      "outputs": [],
      "source": [
        "# Selecting the training values to split\n",
        "X = train_df['text'].values\n",
        "y = train_df['target'].values\n",
        "\n",
        "# Splitting the data into training and evaluation sets (70/30 split)\n",
        "X_train, X_eval, y_train, y_eval = train_test_split(X, y, test_size=0.3)\n",
        "\n",
        "M = 15 # Only include n-grams that appear in at least 15 different tweets.\n",
        "count_vect_ngram = CountVectorizer(binary=True, ngram_range=(1, 2), min_df = M)\n",
        "X_train_ngram = count_vect_ngram.fit_transform(X_train).toarray()\n",
        "X_eval_ngram = count_vect_ngram.transform(X_eval).toarray()"
      ]
    },
    {
      "cell_type": "code",
      "execution_count": null,
      "metadata": {
        "colab": {
          "base_uri": "https://localhost:8080/"
        },
        "id": "DSwkMbZsgsy3",
        "outputId": "05c29b25-db49-44cb-8dea-fff174815750"
      },
      "outputs": [
        {
          "name": "stdout",
          "output_type": "stream",
          "text": [
            "Total number of vocabulary tokens: 1033\n",
            "Number of 1-grams: 804\n",
            "Number of 2-grams: 229\n",
            "Sample 10 2-grams: ['16yr old', '2015 http', '40 families', '70 years', 'about the', 'affected by', 'after the', 'airport get', 'all the', 'and it']\n"
          ]
        }
      ],
      "source": [
        "# Getting the vocabulary tokens.\n",
        "vocab = count_vect_ngram.get_feature_names_out()\n",
        "\n",
        "# Count the unigrams and bigrams.\n",
        "unigrams = [token for token in vocab if ' ' not in token]\n",
        "bigrams = [token for token in vocab if ' ' in token]\n",
        "\n",
        "print(\"Total number of vocabulary tokens:\", len(vocab))\n",
        "print(\"Number of 1-grams:\", len(unigrams))\n",
        "print(\"Number of 2-grams:\", len(bigrams))\n",
        "\n",
        "# Printing 10 samples of 2-grams from the vocabulary\n",
        "print(\"Sample 10 2-grams:\", bigrams[:10])"
      ]
    },
    {
      "cell_type": "code",
      "execution_count": null,
      "metadata": {
        "colab": {
          "base_uri": "https://localhost:8080/"
        },
        "id": "iVPy_puTinWa",
        "outputId": "9a3b02b9-b82b-498e-da0b-6e2aa9ede89e"
      },
      "outputs": [
        {
          "name": "stdout",
          "output_type": "stream",
          "text": [
            "Logistic Regression (N-gram) F-1 Score: 0.8243494423791822\n",
            "Logistic Regression (N-gram) F-1 Score: 0.7434320849636669\n"
          ]
        }
      ],
      "source": [
        "# Implementing a Logistic regression model to train on 2-grams.\n",
        "logreg_ngram = LogisticRegression() # Using default L2 regulariztion.\n",
        "logreg_ngram.fit(X_train_ngram, y_train)\n",
        "\n",
        "# Predictions on the training set.\n",
        "y_pred_ngram_train = logreg_ngram.predict(X_train_ngram)\n",
        "\n",
        "# Predictions and evaluations using the evaluation set.\n",
        "y_pred_ngram_test = logreg_ngram.predict(X_eval_ngram)\n",
        "\n",
        "# Verifying the F1 score for the training and test sets.\n",
        "print(\"Logistic Regression (N-gram) F-1 Score:\", f1_score(y_train, y_pred_ngram_train))\n",
        "print(\"Logistic Regression (N-gram) F-1 Score:\", f1_score(y_eval, y_pred_ngram_test))"
      ]
    },
    {
      "cell_type": "code",
      "execution_count": null,
      "metadata": {
        "colab": {
          "base_uri": "https://localhost:8080/"
        },
        "id": "tKF-jI0SkBB3",
        "outputId": "27808fd7-ea5f-4cf0-9c3d-3b246c5e478e"
      },
      "outputs": [
        {
          "name": "stdout",
          "output_type": "stream",
          "text": [
            "Bernoulli Naive Bayes (N-gram) F-1 score: 0.604812834224599\n",
            "Bernoulli Naive Bayes (N-gram) F-1 score: 0.5940345368916797\n"
          ]
        }
      ],
      "source": [
        "# Implementing a Bernoulli Naive Bayes classifier Model.\n",
        "\n",
        "# Calculating the parameters for Bernoulli Naive Bayes on n-gram features.\n",
        "psis, phis = compute_maxlikeparams(X_train_ngram, y_train)\n",
        "\n",
        "# Predictions on the training set.\n",
        "y_pred_nb_train = naive_bayes_predict(X_train_ngram, psis, phis)\n",
        "\n",
        "# Predictions on the evaluation set.\n",
        "y_pred_nb_test = naive_bayes_predict(X_eval_ngram, psis, phis)\n",
        "\n",
        "# Verifying the F1 score for the training and evaluation sets.\n",
        "print(\"Bernoulli Naive Bayes (N-gram) F-1 score:\", f1_score(y_train, y_pred_nb_train))\n",
        "print(\"Bernoulli Naive Bayes (N-gram) F-1 score:\", f1_score(y_eval, y_pred_nb_test))"
      ]
    },
    {
      "cell_type": "markdown",
      "metadata": {
        "id": "j5nWlEvhizIT"
      },
      "source": [
        "# **Final Model Training and Submission**"
      ]
    },
    {
      "cell_type": "code",
      "execution_count": null,
      "metadata": {
        "id": "dcq1qLcipiNv"
      },
      "outputs": [],
      "source": [
        "# Load the data set once again\n",
        "train_df = pd.read_csv(\"/nlp-getting-started/train.csv\")\n",
        "test_df = pd.read_csv(\"/nlp-getting-started/test.csv\")"
      ]
    },
    {
      "cell_type": "code",
      "execution_count": null,
      "metadata": {
        "id": "nWhf3JsOpfLE"
      },
      "outputs": [],
      "source": [
        "# Preprocess the text columns for both the training and test data.\n",
        "train_df['text'] = train_df['text'].apply(text_preprocessing)\n",
        "test_df['text'] = test_df['text'].apply(text_preprocessing)"
      ]
    },
    {
      "cell_type": "code",
      "execution_count": null,
      "metadata": {
        "id": "Hw7eGplFiy3r"
      },
      "outputs": [],
      "source": [
        "# Create a holdout set for evaluating the model from the full training set\n",
        "X = train_df['text'].values\n",
        "y = train_df['target'].values\n",
        "\n",
        "# Splitting the data into training and evaluation sets (80/20 split)\n",
        "X_train, X_eval, y_train, y_eval = train_test_split(X, y, test_size=0.2)\n",
        "\n",
        "# Vectorize the tetx using an N-gram model\n",
        "M = 15\n",
        "count_vect = CountVectorizer(binary=True, ngram_range=(1, 2), min_df = M)"
      ]
    },
    {
      "cell_type": "code",
      "execution_count": null,
      "metadata": {
        "id": "KGrusy_DpZsf"
      },
      "outputs": [],
      "source": [
        "# Fit the vectorizer on the training subset and transform both training and evaluation texts.\n",
        "X_train = count_vect_ngram.fit_transform(X_train).toarray()\n",
        "X_eval = count_vect_ngram.transform(X_eval).toarray()"
      ]
    },
    {
      "cell_type": "code",
      "execution_count": null,
      "metadata": {
        "colab": {
          "base_uri": "https://localhost:8080/"
        },
        "id": "oVw5rfLZk6D6",
        "outputId": "70c33ab6-f128-4ce8-c58a-e6c0f5c0a7aa"
      },
      "outputs": [
        {
          "name": "stdout",
          "output_type": "stream",
          "text": [
            "Final Model (Holdout) Training F-1 Score: 0.7907166123778502\n",
            "Final Model (Holdout) Evaluation F-1 Score: 0.7315875613747954\n"
          ]
        }
      ],
      "source": [
        "# Train the Logistic regression model with L2 regularization.\n",
        "logreg = LogisticRegression(penalty='l2', solver='liblinear') # Using default L2 regulariztion.\n",
        "logreg.fit(X_train, y_train)\n",
        "\n",
        "# Get predictions on the training and evaluation set.\n",
        "y_pred_train = logreg.predict(X_train)\n",
        "y_pred_test = logreg.predict(X_eval)\n",
        "\n",
        "# Calculate and print the F1 scores for the training and test sets.\n",
        "print(\"Final Model (Holdout) Training F-1 Score:\", f1_score(y_train, y_pred_train))\n",
        "print(\"Final Model (Holdout) Evaluation F-1 Score:\", f1_score(y_eval, y_pred_test))"
      ]
    },
    {
      "cell_type": "code",
      "execution_count": null,
      "metadata": {
        "id": "YaqjMZ5LpyR8"
      },
      "outputs": [],
      "source": [
        "# Reinitialize and re-fit the vectorizer on the entire training data.\n",
        "vectorizer_full = CountVectorizer(binary=True, ngram_range=(1, 2), min_df = M)\n",
        "X_full_vect = vectorizer_full.fit_transform(X)\n",
        "\n",
        "# Train the final model on the full training data.\n",
        "final_model = LogisticRegression(penalty='l2', solver='liblinear')\n",
        "final_model.fit(X_full_vect, y)\n",
        "\n",
        "# Transform the test set using the same vectorizer.\n",
        "X_test = test_df['text'].values\n",
        "X_test_vect = vectorizer_full.transform(X_test)\n",
        "\n",
        "# Make the predictions on the test set.\n",
        "y_pred = final_model.predict(X_test_vect)"
      ]
    },
    {
      "cell_type": "code",
      "execution_count": null,
      "metadata": {
        "colab": {
          "base_uri": "https://localhost:8080/"
        },
        "id": "eKYnoo7hrUPI",
        "outputId": "b1fd4424-29bb-44e2-9586-9bf7fe3adf38"
      },
      "outputs": [
        {
          "name": "stdout",
          "output_type": "stream",
          "text": [
            "Submission file created: submission.csv\n"
          ]
        }
      ],
      "source": [
        "# Create the Kaggle submission. Only include the 'id' and 'target' columns.\n",
        "submission = pd.DataFrame({\n",
        "    'id': test_df['id'],\n",
        "    'target': y_pred\n",
        "})\n",
        "\n",
        "submission.to_csv('submission.csv', index=False)\n",
        "print(\"Submission file created: submission.csv\")"
      ]
    }
  ],
  "metadata": {
    "colab": {
      "collapsed_sections": [
        "tKb81MjngarE",
        "aGi0RuTCgarG",
        "laZ0gYw6garL",
        "p4EFgkmogarL",
        "t1xsf7ARgarM",
        "MC5sgE9EgarN",
        "M3gVCQYx7cg1",
        "qevmLSvZ5HwS",
        "vl-Qt9kqbd5p"
      ],
      "provenance": []
    },
    "kaggle": {
      "accelerator": "none",
      "dataSources": [
        {
          "databundleVersionId": 869809,
          "sourceId": 17777,
          "sourceType": "competition"
        }
      ],
      "dockerImageVersionId": 30886,
      "isGpuEnabled": false,
      "isInternetEnabled": false,
      "language": "python",
      "sourceType": "notebook"
    },
    "kernelspec": {
      "display_name": "Python 3",
      "language": "python",
      "name": "python3"
    },
    "language_info": {
      "codemirror_mode": {
        "name": "ipython",
        "version": 3
      },
      "file_extension": ".py",
      "mimetype": "text/x-python",
      "name": "python",
      "nbconvert_exporter": "python",
      "pygments_lexer": "ipython3",
      "version": "3.12.9"
    }
  },
  "nbformat": 4,
  "nbformat_minor": 0
}
